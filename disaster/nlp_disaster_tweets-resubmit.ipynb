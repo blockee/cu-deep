{
  "nbformat": 4,
  "nbformat_minor": 0,
  "metadata": {
    "colab": {
      "provenance": [],
      "gpuType": "L4"
    },
    "kernelspec": {
      "name": "python3",
      "display_name": "Python 3"
    },
    "language_info": {
      "name": "python"
    },
    "widgets": {
      "application/vnd.jupyter.widget-state+json": {
        "c193bd25822a47258ef06f21b6032bfb": {
          "model_module": "@jupyter-widgets/controls",
          "model_name": "HBoxModel",
          "model_module_version": "1.5.0",
          "state": {
            "_dom_classes": [],
            "_model_module": "@jupyter-widgets/controls",
            "_model_module_version": "1.5.0",
            "_model_name": "HBoxModel",
            "_view_count": null,
            "_view_module": "@jupyter-widgets/controls",
            "_view_module_version": "1.5.0",
            "_view_name": "HBoxView",
            "box_style": "",
            "children": [
              "IPY_MODEL_d8809cb95ab94bdeb83d1e1076681376",
              "IPY_MODEL_ebee2d36260e48a198f4312206f6c4a2",
              "IPY_MODEL_58ee403e44fb45439614a322eecc1894"
            ],
            "layout": "IPY_MODEL_88250675dd2f4485891973ceac70f373"
          }
        },
        "d8809cb95ab94bdeb83d1e1076681376": {
          "model_module": "@jupyter-widgets/controls",
          "model_name": "HTMLModel",
          "model_module_version": "1.5.0",
          "state": {
            "_dom_classes": [],
            "_model_module": "@jupyter-widgets/controls",
            "_model_module_version": "1.5.0",
            "_model_name": "HTMLModel",
            "_view_count": null,
            "_view_module": "@jupyter-widgets/controls",
            "_view_module_version": "1.5.0",
            "_view_name": "HTMLView",
            "description": "",
            "description_tooltip": null,
            "layout": "IPY_MODEL_f4d31566a2ea43e5af3581ab98247dfd",
            "placeholder": "​",
            "style": "IPY_MODEL_dee60961505a44fda19a4cbbf3c8eb5e",
            "value": "tokenizer_config.json: 100%"
          }
        },
        "ebee2d36260e48a198f4312206f6c4a2": {
          "model_module": "@jupyter-widgets/controls",
          "model_name": "FloatProgressModel",
          "model_module_version": "1.5.0",
          "state": {
            "_dom_classes": [],
            "_model_module": "@jupyter-widgets/controls",
            "_model_module_version": "1.5.0",
            "_model_name": "FloatProgressModel",
            "_view_count": null,
            "_view_module": "@jupyter-widgets/controls",
            "_view_module_version": "1.5.0",
            "_view_name": "ProgressView",
            "bar_style": "success",
            "description": "",
            "description_tooltip": null,
            "layout": "IPY_MODEL_fe3076d20eab4b95b1da1ff83db021df",
            "max": 48,
            "min": 0,
            "orientation": "horizontal",
            "style": "IPY_MODEL_32f1b102886b4e88b901d431167b64d4",
            "value": 48
          }
        },
        "58ee403e44fb45439614a322eecc1894": {
          "model_module": "@jupyter-widgets/controls",
          "model_name": "HTMLModel",
          "model_module_version": "1.5.0",
          "state": {
            "_dom_classes": [],
            "_model_module": "@jupyter-widgets/controls",
            "_model_module_version": "1.5.0",
            "_model_name": "HTMLModel",
            "_view_count": null,
            "_view_module": "@jupyter-widgets/controls",
            "_view_module_version": "1.5.0",
            "_view_name": "HTMLView",
            "description": "",
            "description_tooltip": null,
            "layout": "IPY_MODEL_dbf251e2800940cc95462b2e574cb421",
            "placeholder": "​",
            "style": "IPY_MODEL_979be7d505d54e9aa737640cecab02bb",
            "value": " 48.0/48.0 [00:00&lt;00:00, 649B/s]"
          }
        },
        "88250675dd2f4485891973ceac70f373": {
          "model_module": "@jupyter-widgets/base",
          "model_name": "LayoutModel",
          "model_module_version": "1.2.0",
          "state": {
            "_model_module": "@jupyter-widgets/base",
            "_model_module_version": "1.2.0",
            "_model_name": "LayoutModel",
            "_view_count": null,
            "_view_module": "@jupyter-widgets/base",
            "_view_module_version": "1.2.0",
            "_view_name": "LayoutView",
            "align_content": null,
            "align_items": null,
            "align_self": null,
            "border": null,
            "bottom": null,
            "display": null,
            "flex": null,
            "flex_flow": null,
            "grid_area": null,
            "grid_auto_columns": null,
            "grid_auto_flow": null,
            "grid_auto_rows": null,
            "grid_column": null,
            "grid_gap": null,
            "grid_row": null,
            "grid_template_areas": null,
            "grid_template_columns": null,
            "grid_template_rows": null,
            "height": null,
            "justify_content": null,
            "justify_items": null,
            "left": null,
            "margin": null,
            "max_height": null,
            "max_width": null,
            "min_height": null,
            "min_width": null,
            "object_fit": null,
            "object_position": null,
            "order": null,
            "overflow": null,
            "overflow_x": null,
            "overflow_y": null,
            "padding": null,
            "right": null,
            "top": null,
            "visibility": null,
            "width": null
          }
        },
        "f4d31566a2ea43e5af3581ab98247dfd": {
          "model_module": "@jupyter-widgets/base",
          "model_name": "LayoutModel",
          "model_module_version": "1.2.0",
          "state": {
            "_model_module": "@jupyter-widgets/base",
            "_model_module_version": "1.2.0",
            "_model_name": "LayoutModel",
            "_view_count": null,
            "_view_module": "@jupyter-widgets/base",
            "_view_module_version": "1.2.0",
            "_view_name": "LayoutView",
            "align_content": null,
            "align_items": null,
            "align_self": null,
            "border": null,
            "bottom": null,
            "display": null,
            "flex": null,
            "flex_flow": null,
            "grid_area": null,
            "grid_auto_columns": null,
            "grid_auto_flow": null,
            "grid_auto_rows": null,
            "grid_column": null,
            "grid_gap": null,
            "grid_row": null,
            "grid_template_areas": null,
            "grid_template_columns": null,
            "grid_template_rows": null,
            "height": null,
            "justify_content": null,
            "justify_items": null,
            "left": null,
            "margin": null,
            "max_height": null,
            "max_width": null,
            "min_height": null,
            "min_width": null,
            "object_fit": null,
            "object_position": null,
            "order": null,
            "overflow": null,
            "overflow_x": null,
            "overflow_y": null,
            "padding": null,
            "right": null,
            "top": null,
            "visibility": null,
            "width": null
          }
        },
        "dee60961505a44fda19a4cbbf3c8eb5e": {
          "model_module": "@jupyter-widgets/controls",
          "model_name": "DescriptionStyleModel",
          "model_module_version": "1.5.0",
          "state": {
            "_model_module": "@jupyter-widgets/controls",
            "_model_module_version": "1.5.0",
            "_model_name": "DescriptionStyleModel",
            "_view_count": null,
            "_view_module": "@jupyter-widgets/base",
            "_view_module_version": "1.2.0",
            "_view_name": "StyleView",
            "description_width": ""
          }
        },
        "fe3076d20eab4b95b1da1ff83db021df": {
          "model_module": "@jupyter-widgets/base",
          "model_name": "LayoutModel",
          "model_module_version": "1.2.0",
          "state": {
            "_model_module": "@jupyter-widgets/base",
            "_model_module_version": "1.2.0",
            "_model_name": "LayoutModel",
            "_view_count": null,
            "_view_module": "@jupyter-widgets/base",
            "_view_module_version": "1.2.0",
            "_view_name": "LayoutView",
            "align_content": null,
            "align_items": null,
            "align_self": null,
            "border": null,
            "bottom": null,
            "display": null,
            "flex": null,
            "flex_flow": null,
            "grid_area": null,
            "grid_auto_columns": null,
            "grid_auto_flow": null,
            "grid_auto_rows": null,
            "grid_column": null,
            "grid_gap": null,
            "grid_row": null,
            "grid_template_areas": null,
            "grid_template_columns": null,
            "grid_template_rows": null,
            "height": null,
            "justify_content": null,
            "justify_items": null,
            "left": null,
            "margin": null,
            "max_height": null,
            "max_width": null,
            "min_height": null,
            "min_width": null,
            "object_fit": null,
            "object_position": null,
            "order": null,
            "overflow": null,
            "overflow_x": null,
            "overflow_y": null,
            "padding": null,
            "right": null,
            "top": null,
            "visibility": null,
            "width": null
          }
        },
        "32f1b102886b4e88b901d431167b64d4": {
          "model_module": "@jupyter-widgets/controls",
          "model_name": "ProgressStyleModel",
          "model_module_version": "1.5.0",
          "state": {
            "_model_module": "@jupyter-widgets/controls",
            "_model_module_version": "1.5.0",
            "_model_name": "ProgressStyleModel",
            "_view_count": null,
            "_view_module": "@jupyter-widgets/base",
            "_view_module_version": "1.2.0",
            "_view_name": "StyleView",
            "bar_color": null,
            "description_width": ""
          }
        },
        "dbf251e2800940cc95462b2e574cb421": {
          "model_module": "@jupyter-widgets/base",
          "model_name": "LayoutModel",
          "model_module_version": "1.2.0",
          "state": {
            "_model_module": "@jupyter-widgets/base",
            "_model_module_version": "1.2.0",
            "_model_name": "LayoutModel",
            "_view_count": null,
            "_view_module": "@jupyter-widgets/base",
            "_view_module_version": "1.2.0",
            "_view_name": "LayoutView",
            "align_content": null,
            "align_items": null,
            "align_self": null,
            "border": null,
            "bottom": null,
            "display": null,
            "flex": null,
            "flex_flow": null,
            "grid_area": null,
            "grid_auto_columns": null,
            "grid_auto_flow": null,
            "grid_auto_rows": null,
            "grid_column": null,
            "grid_gap": null,
            "grid_row": null,
            "grid_template_areas": null,
            "grid_template_columns": null,
            "grid_template_rows": null,
            "height": null,
            "justify_content": null,
            "justify_items": null,
            "left": null,
            "margin": null,
            "max_height": null,
            "max_width": null,
            "min_height": null,
            "min_width": null,
            "object_fit": null,
            "object_position": null,
            "order": null,
            "overflow": null,
            "overflow_x": null,
            "overflow_y": null,
            "padding": null,
            "right": null,
            "top": null,
            "visibility": null,
            "width": null
          }
        },
        "979be7d505d54e9aa737640cecab02bb": {
          "model_module": "@jupyter-widgets/controls",
          "model_name": "DescriptionStyleModel",
          "model_module_version": "1.5.0",
          "state": {
            "_model_module": "@jupyter-widgets/controls",
            "_model_module_version": "1.5.0",
            "_model_name": "DescriptionStyleModel",
            "_view_count": null,
            "_view_module": "@jupyter-widgets/base",
            "_view_module_version": "1.2.0",
            "_view_name": "StyleView",
            "description_width": ""
          }
        },
        "17a7214f6af04d3f82808da0629d547f": {
          "model_module": "@jupyter-widgets/controls",
          "model_name": "HBoxModel",
          "model_module_version": "1.5.0",
          "state": {
            "_dom_classes": [],
            "_model_module": "@jupyter-widgets/controls",
            "_model_module_version": "1.5.0",
            "_model_name": "HBoxModel",
            "_view_count": null,
            "_view_module": "@jupyter-widgets/controls",
            "_view_module_version": "1.5.0",
            "_view_name": "HBoxView",
            "box_style": "",
            "children": [
              "IPY_MODEL_72f6fe3f532f406f945c4b1b94c5a021",
              "IPY_MODEL_6dbcab2e3f0b4f9c85943afad05cb811",
              "IPY_MODEL_b6b84df2e9d34237bc8f0fe91c9a6f4f"
            ],
            "layout": "IPY_MODEL_cea99e650db04a9bbc756a48f2332c3d"
          }
        },
        "72f6fe3f532f406f945c4b1b94c5a021": {
          "model_module": "@jupyter-widgets/controls",
          "model_name": "HTMLModel",
          "model_module_version": "1.5.0",
          "state": {
            "_dom_classes": [],
            "_model_module": "@jupyter-widgets/controls",
            "_model_module_version": "1.5.0",
            "_model_name": "HTMLModel",
            "_view_count": null,
            "_view_module": "@jupyter-widgets/controls",
            "_view_module_version": "1.5.0",
            "_view_name": "HTMLView",
            "description": "",
            "description_tooltip": null,
            "layout": "IPY_MODEL_48c6ac74088941d0bc971d763a1a3192",
            "placeholder": "​",
            "style": "IPY_MODEL_430700fbff5d44909150a28176c56250",
            "value": "vocab.txt: 100%"
          }
        },
        "6dbcab2e3f0b4f9c85943afad05cb811": {
          "model_module": "@jupyter-widgets/controls",
          "model_name": "FloatProgressModel",
          "model_module_version": "1.5.0",
          "state": {
            "_dom_classes": [],
            "_model_module": "@jupyter-widgets/controls",
            "_model_module_version": "1.5.0",
            "_model_name": "FloatProgressModel",
            "_view_count": null,
            "_view_module": "@jupyter-widgets/controls",
            "_view_module_version": "1.5.0",
            "_view_name": "ProgressView",
            "bar_style": "success",
            "description": "",
            "description_tooltip": null,
            "layout": "IPY_MODEL_25b7962b9b014504a24cac1cc2bf605c",
            "max": 231508,
            "min": 0,
            "orientation": "horizontal",
            "style": "IPY_MODEL_10b19e5dcd994d09b97062a1917fc7f1",
            "value": 231508
          }
        },
        "b6b84df2e9d34237bc8f0fe91c9a6f4f": {
          "model_module": "@jupyter-widgets/controls",
          "model_name": "HTMLModel",
          "model_module_version": "1.5.0",
          "state": {
            "_dom_classes": [],
            "_model_module": "@jupyter-widgets/controls",
            "_model_module_version": "1.5.0",
            "_model_name": "HTMLModel",
            "_view_count": null,
            "_view_module": "@jupyter-widgets/controls",
            "_view_module_version": "1.5.0",
            "_view_name": "HTMLView",
            "description": "",
            "description_tooltip": null,
            "layout": "IPY_MODEL_6b560f398f174145b01f83ab21008e2b",
            "placeholder": "​",
            "style": "IPY_MODEL_1f19dd377fcb4921a6f0d739e94d42e6",
            "value": " 232k/232k [00:00&lt;00:00, 1.37MB/s]"
          }
        },
        "cea99e650db04a9bbc756a48f2332c3d": {
          "model_module": "@jupyter-widgets/base",
          "model_name": "LayoutModel",
          "model_module_version": "1.2.0",
          "state": {
            "_model_module": "@jupyter-widgets/base",
            "_model_module_version": "1.2.0",
            "_model_name": "LayoutModel",
            "_view_count": null,
            "_view_module": "@jupyter-widgets/base",
            "_view_module_version": "1.2.0",
            "_view_name": "LayoutView",
            "align_content": null,
            "align_items": null,
            "align_self": null,
            "border": null,
            "bottom": null,
            "display": null,
            "flex": null,
            "flex_flow": null,
            "grid_area": null,
            "grid_auto_columns": null,
            "grid_auto_flow": null,
            "grid_auto_rows": null,
            "grid_column": null,
            "grid_gap": null,
            "grid_row": null,
            "grid_template_areas": null,
            "grid_template_columns": null,
            "grid_template_rows": null,
            "height": null,
            "justify_content": null,
            "justify_items": null,
            "left": null,
            "margin": null,
            "max_height": null,
            "max_width": null,
            "min_height": null,
            "min_width": null,
            "object_fit": null,
            "object_position": null,
            "order": null,
            "overflow": null,
            "overflow_x": null,
            "overflow_y": null,
            "padding": null,
            "right": null,
            "top": null,
            "visibility": null,
            "width": null
          }
        },
        "48c6ac74088941d0bc971d763a1a3192": {
          "model_module": "@jupyter-widgets/base",
          "model_name": "LayoutModel",
          "model_module_version": "1.2.0",
          "state": {
            "_model_module": "@jupyter-widgets/base",
            "_model_module_version": "1.2.0",
            "_model_name": "LayoutModel",
            "_view_count": null,
            "_view_module": "@jupyter-widgets/base",
            "_view_module_version": "1.2.0",
            "_view_name": "LayoutView",
            "align_content": null,
            "align_items": null,
            "align_self": null,
            "border": null,
            "bottom": null,
            "display": null,
            "flex": null,
            "flex_flow": null,
            "grid_area": null,
            "grid_auto_columns": null,
            "grid_auto_flow": null,
            "grid_auto_rows": null,
            "grid_column": null,
            "grid_gap": null,
            "grid_row": null,
            "grid_template_areas": null,
            "grid_template_columns": null,
            "grid_template_rows": null,
            "height": null,
            "justify_content": null,
            "justify_items": null,
            "left": null,
            "margin": null,
            "max_height": null,
            "max_width": null,
            "min_height": null,
            "min_width": null,
            "object_fit": null,
            "object_position": null,
            "order": null,
            "overflow": null,
            "overflow_x": null,
            "overflow_y": null,
            "padding": null,
            "right": null,
            "top": null,
            "visibility": null,
            "width": null
          }
        },
        "430700fbff5d44909150a28176c56250": {
          "model_module": "@jupyter-widgets/controls",
          "model_name": "DescriptionStyleModel",
          "model_module_version": "1.5.0",
          "state": {
            "_model_module": "@jupyter-widgets/controls",
            "_model_module_version": "1.5.0",
            "_model_name": "DescriptionStyleModel",
            "_view_count": null,
            "_view_module": "@jupyter-widgets/base",
            "_view_module_version": "1.2.0",
            "_view_name": "StyleView",
            "description_width": ""
          }
        },
        "25b7962b9b014504a24cac1cc2bf605c": {
          "model_module": "@jupyter-widgets/base",
          "model_name": "LayoutModel",
          "model_module_version": "1.2.0",
          "state": {
            "_model_module": "@jupyter-widgets/base",
            "_model_module_version": "1.2.0",
            "_model_name": "LayoutModel",
            "_view_count": null,
            "_view_module": "@jupyter-widgets/base",
            "_view_module_version": "1.2.0",
            "_view_name": "LayoutView",
            "align_content": null,
            "align_items": null,
            "align_self": null,
            "border": null,
            "bottom": null,
            "display": null,
            "flex": null,
            "flex_flow": null,
            "grid_area": null,
            "grid_auto_columns": null,
            "grid_auto_flow": null,
            "grid_auto_rows": null,
            "grid_column": null,
            "grid_gap": null,
            "grid_row": null,
            "grid_template_areas": null,
            "grid_template_columns": null,
            "grid_template_rows": null,
            "height": null,
            "justify_content": null,
            "justify_items": null,
            "left": null,
            "margin": null,
            "max_height": null,
            "max_width": null,
            "min_height": null,
            "min_width": null,
            "object_fit": null,
            "object_position": null,
            "order": null,
            "overflow": null,
            "overflow_x": null,
            "overflow_y": null,
            "padding": null,
            "right": null,
            "top": null,
            "visibility": null,
            "width": null
          }
        },
        "10b19e5dcd994d09b97062a1917fc7f1": {
          "model_module": "@jupyter-widgets/controls",
          "model_name": "ProgressStyleModel",
          "model_module_version": "1.5.0",
          "state": {
            "_model_module": "@jupyter-widgets/controls",
            "_model_module_version": "1.5.0",
            "_model_name": "ProgressStyleModel",
            "_view_count": null,
            "_view_module": "@jupyter-widgets/base",
            "_view_module_version": "1.2.0",
            "_view_name": "StyleView",
            "bar_color": null,
            "description_width": ""
          }
        },
        "6b560f398f174145b01f83ab21008e2b": {
          "model_module": "@jupyter-widgets/base",
          "model_name": "LayoutModel",
          "model_module_version": "1.2.0",
          "state": {
            "_model_module": "@jupyter-widgets/base",
            "_model_module_version": "1.2.0",
            "_model_name": "LayoutModel",
            "_view_count": null,
            "_view_module": "@jupyter-widgets/base",
            "_view_module_version": "1.2.0",
            "_view_name": "LayoutView",
            "align_content": null,
            "align_items": null,
            "align_self": null,
            "border": null,
            "bottom": null,
            "display": null,
            "flex": null,
            "flex_flow": null,
            "grid_area": null,
            "grid_auto_columns": null,
            "grid_auto_flow": null,
            "grid_auto_rows": null,
            "grid_column": null,
            "grid_gap": null,
            "grid_row": null,
            "grid_template_areas": null,
            "grid_template_columns": null,
            "grid_template_rows": null,
            "height": null,
            "justify_content": null,
            "justify_items": null,
            "left": null,
            "margin": null,
            "max_height": null,
            "max_width": null,
            "min_height": null,
            "min_width": null,
            "object_fit": null,
            "object_position": null,
            "order": null,
            "overflow": null,
            "overflow_x": null,
            "overflow_y": null,
            "padding": null,
            "right": null,
            "top": null,
            "visibility": null,
            "width": null
          }
        },
        "1f19dd377fcb4921a6f0d739e94d42e6": {
          "model_module": "@jupyter-widgets/controls",
          "model_name": "DescriptionStyleModel",
          "model_module_version": "1.5.0",
          "state": {
            "_model_module": "@jupyter-widgets/controls",
            "_model_module_version": "1.5.0",
            "_model_name": "DescriptionStyleModel",
            "_view_count": null,
            "_view_module": "@jupyter-widgets/base",
            "_view_module_version": "1.2.0",
            "_view_name": "StyleView",
            "description_width": ""
          }
        },
        "16639d677c4f4589bd2011938429efd8": {
          "model_module": "@jupyter-widgets/controls",
          "model_name": "HBoxModel",
          "model_module_version": "1.5.0",
          "state": {
            "_dom_classes": [],
            "_model_module": "@jupyter-widgets/controls",
            "_model_module_version": "1.5.0",
            "_model_name": "HBoxModel",
            "_view_count": null,
            "_view_module": "@jupyter-widgets/controls",
            "_view_module_version": "1.5.0",
            "_view_name": "HBoxView",
            "box_style": "",
            "children": [
              "IPY_MODEL_c25e9c50aa5440208beb3bb73867878a",
              "IPY_MODEL_b8be61e754c6479e980afd2174ff17c0",
              "IPY_MODEL_6d71790feb5b42fa9ab3742292312f1d"
            ],
            "layout": "IPY_MODEL_08634381a86d4c8b9680718d738a0689"
          }
        },
        "c25e9c50aa5440208beb3bb73867878a": {
          "model_module": "@jupyter-widgets/controls",
          "model_name": "HTMLModel",
          "model_module_version": "1.5.0",
          "state": {
            "_dom_classes": [],
            "_model_module": "@jupyter-widgets/controls",
            "_model_module_version": "1.5.0",
            "_model_name": "HTMLModel",
            "_view_count": null,
            "_view_module": "@jupyter-widgets/controls",
            "_view_module_version": "1.5.0",
            "_view_name": "HTMLView",
            "description": "",
            "description_tooltip": null,
            "layout": "IPY_MODEL_479e4c70dde44564850797e2f44294bb",
            "placeholder": "​",
            "style": "IPY_MODEL_7c03931f54334f0c8cf5cb9f59a990a6",
            "value": "tokenizer.json: 100%"
          }
        },
        "b8be61e754c6479e980afd2174ff17c0": {
          "model_module": "@jupyter-widgets/controls",
          "model_name": "FloatProgressModel",
          "model_module_version": "1.5.0",
          "state": {
            "_dom_classes": [],
            "_model_module": "@jupyter-widgets/controls",
            "_model_module_version": "1.5.0",
            "_model_name": "FloatProgressModel",
            "_view_count": null,
            "_view_module": "@jupyter-widgets/controls",
            "_view_module_version": "1.5.0",
            "_view_name": "ProgressView",
            "bar_style": "success",
            "description": "",
            "description_tooltip": null,
            "layout": "IPY_MODEL_87ca57ef550c4c858e4e8101799c3b71",
            "max": 466062,
            "min": 0,
            "orientation": "horizontal",
            "style": "IPY_MODEL_b15280fbb30d4d7a9a3d96bfa5c9da81",
            "value": 466062
          }
        },
        "6d71790feb5b42fa9ab3742292312f1d": {
          "model_module": "@jupyter-widgets/controls",
          "model_name": "HTMLModel",
          "model_module_version": "1.5.0",
          "state": {
            "_dom_classes": [],
            "_model_module": "@jupyter-widgets/controls",
            "_model_module_version": "1.5.0",
            "_model_name": "HTMLModel",
            "_view_count": null,
            "_view_module": "@jupyter-widgets/controls",
            "_view_module_version": "1.5.0",
            "_view_name": "HTMLView",
            "description": "",
            "description_tooltip": null,
            "layout": "IPY_MODEL_144c7eedcc474066bbc033a9d07bd9fa",
            "placeholder": "​",
            "style": "IPY_MODEL_e9a59d0caaf54d32b3e8be681f7b414e",
            "value": " 466k/466k [00:00&lt;00:00, 6.54MB/s]"
          }
        },
        "08634381a86d4c8b9680718d738a0689": {
          "model_module": "@jupyter-widgets/base",
          "model_name": "LayoutModel",
          "model_module_version": "1.2.0",
          "state": {
            "_model_module": "@jupyter-widgets/base",
            "_model_module_version": "1.2.0",
            "_model_name": "LayoutModel",
            "_view_count": null,
            "_view_module": "@jupyter-widgets/base",
            "_view_module_version": "1.2.0",
            "_view_name": "LayoutView",
            "align_content": null,
            "align_items": null,
            "align_self": null,
            "border": null,
            "bottom": null,
            "display": null,
            "flex": null,
            "flex_flow": null,
            "grid_area": null,
            "grid_auto_columns": null,
            "grid_auto_flow": null,
            "grid_auto_rows": null,
            "grid_column": null,
            "grid_gap": null,
            "grid_row": null,
            "grid_template_areas": null,
            "grid_template_columns": null,
            "grid_template_rows": null,
            "height": null,
            "justify_content": null,
            "justify_items": null,
            "left": null,
            "margin": null,
            "max_height": null,
            "max_width": null,
            "min_height": null,
            "min_width": null,
            "object_fit": null,
            "object_position": null,
            "order": null,
            "overflow": null,
            "overflow_x": null,
            "overflow_y": null,
            "padding": null,
            "right": null,
            "top": null,
            "visibility": null,
            "width": null
          }
        },
        "479e4c70dde44564850797e2f44294bb": {
          "model_module": "@jupyter-widgets/base",
          "model_name": "LayoutModel",
          "model_module_version": "1.2.0",
          "state": {
            "_model_module": "@jupyter-widgets/base",
            "_model_module_version": "1.2.0",
            "_model_name": "LayoutModel",
            "_view_count": null,
            "_view_module": "@jupyter-widgets/base",
            "_view_module_version": "1.2.0",
            "_view_name": "LayoutView",
            "align_content": null,
            "align_items": null,
            "align_self": null,
            "border": null,
            "bottom": null,
            "display": null,
            "flex": null,
            "flex_flow": null,
            "grid_area": null,
            "grid_auto_columns": null,
            "grid_auto_flow": null,
            "grid_auto_rows": null,
            "grid_column": null,
            "grid_gap": null,
            "grid_row": null,
            "grid_template_areas": null,
            "grid_template_columns": null,
            "grid_template_rows": null,
            "height": null,
            "justify_content": null,
            "justify_items": null,
            "left": null,
            "margin": null,
            "max_height": null,
            "max_width": null,
            "min_height": null,
            "min_width": null,
            "object_fit": null,
            "object_position": null,
            "order": null,
            "overflow": null,
            "overflow_x": null,
            "overflow_y": null,
            "padding": null,
            "right": null,
            "top": null,
            "visibility": null,
            "width": null
          }
        },
        "7c03931f54334f0c8cf5cb9f59a990a6": {
          "model_module": "@jupyter-widgets/controls",
          "model_name": "DescriptionStyleModel",
          "model_module_version": "1.5.0",
          "state": {
            "_model_module": "@jupyter-widgets/controls",
            "_model_module_version": "1.5.0",
            "_model_name": "DescriptionStyleModel",
            "_view_count": null,
            "_view_module": "@jupyter-widgets/base",
            "_view_module_version": "1.2.0",
            "_view_name": "StyleView",
            "description_width": ""
          }
        },
        "87ca57ef550c4c858e4e8101799c3b71": {
          "model_module": "@jupyter-widgets/base",
          "model_name": "LayoutModel",
          "model_module_version": "1.2.0",
          "state": {
            "_model_module": "@jupyter-widgets/base",
            "_model_module_version": "1.2.0",
            "_model_name": "LayoutModel",
            "_view_count": null,
            "_view_module": "@jupyter-widgets/base",
            "_view_module_version": "1.2.0",
            "_view_name": "LayoutView",
            "align_content": null,
            "align_items": null,
            "align_self": null,
            "border": null,
            "bottom": null,
            "display": null,
            "flex": null,
            "flex_flow": null,
            "grid_area": null,
            "grid_auto_columns": null,
            "grid_auto_flow": null,
            "grid_auto_rows": null,
            "grid_column": null,
            "grid_gap": null,
            "grid_row": null,
            "grid_template_areas": null,
            "grid_template_columns": null,
            "grid_template_rows": null,
            "height": null,
            "justify_content": null,
            "justify_items": null,
            "left": null,
            "margin": null,
            "max_height": null,
            "max_width": null,
            "min_height": null,
            "min_width": null,
            "object_fit": null,
            "object_position": null,
            "order": null,
            "overflow": null,
            "overflow_x": null,
            "overflow_y": null,
            "padding": null,
            "right": null,
            "top": null,
            "visibility": null,
            "width": null
          }
        },
        "b15280fbb30d4d7a9a3d96bfa5c9da81": {
          "model_module": "@jupyter-widgets/controls",
          "model_name": "ProgressStyleModel",
          "model_module_version": "1.5.0",
          "state": {
            "_model_module": "@jupyter-widgets/controls",
            "_model_module_version": "1.5.0",
            "_model_name": "ProgressStyleModel",
            "_view_count": null,
            "_view_module": "@jupyter-widgets/base",
            "_view_module_version": "1.2.0",
            "_view_name": "StyleView",
            "bar_color": null,
            "description_width": ""
          }
        },
        "144c7eedcc474066bbc033a9d07bd9fa": {
          "model_module": "@jupyter-widgets/base",
          "model_name": "LayoutModel",
          "model_module_version": "1.2.0",
          "state": {
            "_model_module": "@jupyter-widgets/base",
            "_model_module_version": "1.2.0",
            "_model_name": "LayoutModel",
            "_view_count": null,
            "_view_module": "@jupyter-widgets/base",
            "_view_module_version": "1.2.0",
            "_view_name": "LayoutView",
            "align_content": null,
            "align_items": null,
            "align_self": null,
            "border": null,
            "bottom": null,
            "display": null,
            "flex": null,
            "flex_flow": null,
            "grid_area": null,
            "grid_auto_columns": null,
            "grid_auto_flow": null,
            "grid_auto_rows": null,
            "grid_column": null,
            "grid_gap": null,
            "grid_row": null,
            "grid_template_areas": null,
            "grid_template_columns": null,
            "grid_template_rows": null,
            "height": null,
            "justify_content": null,
            "justify_items": null,
            "left": null,
            "margin": null,
            "max_height": null,
            "max_width": null,
            "min_height": null,
            "min_width": null,
            "object_fit": null,
            "object_position": null,
            "order": null,
            "overflow": null,
            "overflow_x": null,
            "overflow_y": null,
            "padding": null,
            "right": null,
            "top": null,
            "visibility": null,
            "width": null
          }
        },
        "e9a59d0caaf54d32b3e8be681f7b414e": {
          "model_module": "@jupyter-widgets/controls",
          "model_name": "DescriptionStyleModel",
          "model_module_version": "1.5.0",
          "state": {
            "_model_module": "@jupyter-widgets/controls",
            "_model_module_version": "1.5.0",
            "_model_name": "DescriptionStyleModel",
            "_view_count": null,
            "_view_module": "@jupyter-widgets/base",
            "_view_module_version": "1.2.0",
            "_view_name": "StyleView",
            "description_width": ""
          }
        },
        "2886d1cca87c4e64862ec5fe21f1c4fc": {
          "model_module": "@jupyter-widgets/controls",
          "model_name": "HBoxModel",
          "model_module_version": "1.5.0",
          "state": {
            "_dom_classes": [],
            "_model_module": "@jupyter-widgets/controls",
            "_model_module_version": "1.5.0",
            "_model_name": "HBoxModel",
            "_view_count": null,
            "_view_module": "@jupyter-widgets/controls",
            "_view_module_version": "1.5.0",
            "_view_name": "HBoxView",
            "box_style": "",
            "children": [
              "IPY_MODEL_9f7da1a6c18d4e0e8f3c5d10af9f3c69",
              "IPY_MODEL_cc79ae0652e34920abda4397238cfef1",
              "IPY_MODEL_52643658043f4611a1ffa274203901d4"
            ],
            "layout": "IPY_MODEL_ad7312219aae49d6b0375eace6ccbdef"
          }
        },
        "9f7da1a6c18d4e0e8f3c5d10af9f3c69": {
          "model_module": "@jupyter-widgets/controls",
          "model_name": "HTMLModel",
          "model_module_version": "1.5.0",
          "state": {
            "_dom_classes": [],
            "_model_module": "@jupyter-widgets/controls",
            "_model_module_version": "1.5.0",
            "_model_name": "HTMLModel",
            "_view_count": null,
            "_view_module": "@jupyter-widgets/controls",
            "_view_module_version": "1.5.0",
            "_view_name": "HTMLView",
            "description": "",
            "description_tooltip": null,
            "layout": "IPY_MODEL_5336bff3627640e480c671a44539b3e3",
            "placeholder": "​",
            "style": "IPY_MODEL_d6f2752471044a27a65b57dd228b6c05",
            "value": "config.json: 100%"
          }
        },
        "cc79ae0652e34920abda4397238cfef1": {
          "model_module": "@jupyter-widgets/controls",
          "model_name": "FloatProgressModel",
          "model_module_version": "1.5.0",
          "state": {
            "_dom_classes": [],
            "_model_module": "@jupyter-widgets/controls",
            "_model_module_version": "1.5.0",
            "_model_name": "FloatProgressModel",
            "_view_count": null,
            "_view_module": "@jupyter-widgets/controls",
            "_view_module_version": "1.5.0",
            "_view_name": "ProgressView",
            "bar_style": "success",
            "description": "",
            "description_tooltip": null,
            "layout": "IPY_MODEL_af9bfec16a6747aeb71ddbd508fdb6b0",
            "max": 570,
            "min": 0,
            "orientation": "horizontal",
            "style": "IPY_MODEL_e5935e8ccf214625927a2e4f246a47a1",
            "value": 570
          }
        },
        "52643658043f4611a1ffa274203901d4": {
          "model_module": "@jupyter-widgets/controls",
          "model_name": "HTMLModel",
          "model_module_version": "1.5.0",
          "state": {
            "_dom_classes": [],
            "_model_module": "@jupyter-widgets/controls",
            "_model_module_version": "1.5.0",
            "_model_name": "HTMLModel",
            "_view_count": null,
            "_view_module": "@jupyter-widgets/controls",
            "_view_module_version": "1.5.0",
            "_view_name": "HTMLView",
            "description": "",
            "description_tooltip": null,
            "layout": "IPY_MODEL_b6bf5c518f5942c48519a0075087e5ab",
            "placeholder": "​",
            "style": "IPY_MODEL_6b7a44e6824a49ad8f1d306ebbdd9eb9",
            "value": " 570/570 [00:00&lt;00:00, 19.0kB/s]"
          }
        },
        "ad7312219aae49d6b0375eace6ccbdef": {
          "model_module": "@jupyter-widgets/base",
          "model_name": "LayoutModel",
          "model_module_version": "1.2.0",
          "state": {
            "_model_module": "@jupyter-widgets/base",
            "_model_module_version": "1.2.0",
            "_model_name": "LayoutModel",
            "_view_count": null,
            "_view_module": "@jupyter-widgets/base",
            "_view_module_version": "1.2.0",
            "_view_name": "LayoutView",
            "align_content": null,
            "align_items": null,
            "align_self": null,
            "border": null,
            "bottom": null,
            "display": null,
            "flex": null,
            "flex_flow": null,
            "grid_area": null,
            "grid_auto_columns": null,
            "grid_auto_flow": null,
            "grid_auto_rows": null,
            "grid_column": null,
            "grid_gap": null,
            "grid_row": null,
            "grid_template_areas": null,
            "grid_template_columns": null,
            "grid_template_rows": null,
            "height": null,
            "justify_content": null,
            "justify_items": null,
            "left": null,
            "margin": null,
            "max_height": null,
            "max_width": null,
            "min_height": null,
            "min_width": null,
            "object_fit": null,
            "object_position": null,
            "order": null,
            "overflow": null,
            "overflow_x": null,
            "overflow_y": null,
            "padding": null,
            "right": null,
            "top": null,
            "visibility": null,
            "width": null
          }
        },
        "5336bff3627640e480c671a44539b3e3": {
          "model_module": "@jupyter-widgets/base",
          "model_name": "LayoutModel",
          "model_module_version": "1.2.0",
          "state": {
            "_model_module": "@jupyter-widgets/base",
            "_model_module_version": "1.2.0",
            "_model_name": "LayoutModel",
            "_view_count": null,
            "_view_module": "@jupyter-widgets/base",
            "_view_module_version": "1.2.0",
            "_view_name": "LayoutView",
            "align_content": null,
            "align_items": null,
            "align_self": null,
            "border": null,
            "bottom": null,
            "display": null,
            "flex": null,
            "flex_flow": null,
            "grid_area": null,
            "grid_auto_columns": null,
            "grid_auto_flow": null,
            "grid_auto_rows": null,
            "grid_column": null,
            "grid_gap": null,
            "grid_row": null,
            "grid_template_areas": null,
            "grid_template_columns": null,
            "grid_template_rows": null,
            "height": null,
            "justify_content": null,
            "justify_items": null,
            "left": null,
            "margin": null,
            "max_height": null,
            "max_width": null,
            "min_height": null,
            "min_width": null,
            "object_fit": null,
            "object_position": null,
            "order": null,
            "overflow": null,
            "overflow_x": null,
            "overflow_y": null,
            "padding": null,
            "right": null,
            "top": null,
            "visibility": null,
            "width": null
          }
        },
        "d6f2752471044a27a65b57dd228b6c05": {
          "model_module": "@jupyter-widgets/controls",
          "model_name": "DescriptionStyleModel",
          "model_module_version": "1.5.0",
          "state": {
            "_model_module": "@jupyter-widgets/controls",
            "_model_module_version": "1.5.0",
            "_model_name": "DescriptionStyleModel",
            "_view_count": null,
            "_view_module": "@jupyter-widgets/base",
            "_view_module_version": "1.2.0",
            "_view_name": "StyleView",
            "description_width": ""
          }
        },
        "af9bfec16a6747aeb71ddbd508fdb6b0": {
          "model_module": "@jupyter-widgets/base",
          "model_name": "LayoutModel",
          "model_module_version": "1.2.0",
          "state": {
            "_model_module": "@jupyter-widgets/base",
            "_model_module_version": "1.2.0",
            "_model_name": "LayoutModel",
            "_view_count": null,
            "_view_module": "@jupyter-widgets/base",
            "_view_module_version": "1.2.0",
            "_view_name": "LayoutView",
            "align_content": null,
            "align_items": null,
            "align_self": null,
            "border": null,
            "bottom": null,
            "display": null,
            "flex": null,
            "flex_flow": null,
            "grid_area": null,
            "grid_auto_columns": null,
            "grid_auto_flow": null,
            "grid_auto_rows": null,
            "grid_column": null,
            "grid_gap": null,
            "grid_row": null,
            "grid_template_areas": null,
            "grid_template_columns": null,
            "grid_template_rows": null,
            "height": null,
            "justify_content": null,
            "justify_items": null,
            "left": null,
            "margin": null,
            "max_height": null,
            "max_width": null,
            "min_height": null,
            "min_width": null,
            "object_fit": null,
            "object_position": null,
            "order": null,
            "overflow": null,
            "overflow_x": null,
            "overflow_y": null,
            "padding": null,
            "right": null,
            "top": null,
            "visibility": null,
            "width": null
          }
        },
        "e5935e8ccf214625927a2e4f246a47a1": {
          "model_module": "@jupyter-widgets/controls",
          "model_name": "ProgressStyleModel",
          "model_module_version": "1.5.0",
          "state": {
            "_model_module": "@jupyter-widgets/controls",
            "_model_module_version": "1.5.0",
            "_model_name": "ProgressStyleModel",
            "_view_count": null,
            "_view_module": "@jupyter-widgets/base",
            "_view_module_version": "1.2.0",
            "_view_name": "StyleView",
            "bar_color": null,
            "description_width": ""
          }
        },
        "b6bf5c518f5942c48519a0075087e5ab": {
          "model_module": "@jupyter-widgets/base",
          "model_name": "LayoutModel",
          "model_module_version": "1.2.0",
          "state": {
            "_model_module": "@jupyter-widgets/base",
            "_model_module_version": "1.2.0",
            "_model_name": "LayoutModel",
            "_view_count": null,
            "_view_module": "@jupyter-widgets/base",
            "_view_module_version": "1.2.0",
            "_view_name": "LayoutView",
            "align_content": null,
            "align_items": null,
            "align_self": null,
            "border": null,
            "bottom": null,
            "display": null,
            "flex": null,
            "flex_flow": null,
            "grid_area": null,
            "grid_auto_columns": null,
            "grid_auto_flow": null,
            "grid_auto_rows": null,
            "grid_column": null,
            "grid_gap": null,
            "grid_row": null,
            "grid_template_areas": null,
            "grid_template_columns": null,
            "grid_template_rows": null,
            "height": null,
            "justify_content": null,
            "justify_items": null,
            "left": null,
            "margin": null,
            "max_height": null,
            "max_width": null,
            "min_height": null,
            "min_width": null,
            "object_fit": null,
            "object_position": null,
            "order": null,
            "overflow": null,
            "overflow_x": null,
            "overflow_y": null,
            "padding": null,
            "right": null,
            "top": null,
            "visibility": null,
            "width": null
          }
        },
        "6b7a44e6824a49ad8f1d306ebbdd9eb9": {
          "model_module": "@jupyter-widgets/controls",
          "model_name": "DescriptionStyleModel",
          "model_module_version": "1.5.0",
          "state": {
            "_model_module": "@jupyter-widgets/controls",
            "_model_module_version": "1.5.0",
            "_model_name": "DescriptionStyleModel",
            "_view_count": null,
            "_view_module": "@jupyter-widgets/base",
            "_view_module_version": "1.2.0",
            "_view_name": "StyleView",
            "description_width": ""
          }
        }
      }
    },
    "accelerator": "GPU"
  },
  "cells": [
    {
      "cell_type": "markdown",
      "source": [
        "# NLP Disaster Tweets\n",
        "\n",
        "The goal of this Kaggle project is to differentiate tweets that are describing a disaster versus those that aren't. The Kaggle competition is available here: https://www.kaggle.com/competitions/nlp-getting-started\n",
        "\n",
        "The dataset includes approximately 10,000 tweets. Each row contains the text of the tweet, an often-empty column with the location, and the target field which is what we're trying to predict and indicates whether the tweet was about a disaster or not.\n",
        "\n",
        "Project code for this project available here: https://github.com/blockee/cu-deep/tree/main/disaster"
      ],
      "metadata": {
        "id": "Hzpd8WkldW2n"
      }
    },
    {
      "cell_type": "markdown",
      "source": [
        "### Setup and Data Reading"
      ],
      "metadata": {
        "id": "Q3PJetLEfAhd"
      }
    },
    {
      "cell_type": "code",
      "execution_count": null,
      "metadata": {
        "id": "1yCXWYUHvHfp"
      },
      "outputs": [],
      "source": [
        "import pandas as pd\n",
        "from sklearn.model_selection import train_test_split\n",
        "\n",
        "import tensorflow as tf\n",
        "\n",
        "import numpy as np\n",
        "import matplotlib.pyplot as plt\n",
        "from tensorflow.keras.callbacks import EarlyStopping\n",
        "import matplotlib.pyplot as plt"
      ]
    },
    {
      "cell_type": "code",
      "source": [
        "import torch\n",
        "from torch.utils.data import Dataset, DataLoader\n",
        "from transformers import BertTokenizer, BertForSequenceClassification, Trainer, TrainingArguments"
      ],
      "metadata": {
        "id": "ctaV5GIgg3Uz"
      },
      "execution_count": null,
      "outputs": []
    },
    {
      "cell_type": "code",
      "source": [
        "def pandas_to_dataset(df, text_column, target_column, batch_size=64):\n",
        "  \"\"\"Converts a Pandas DataFrame with one text input column + target column\n",
        "   to a TensorFlow Dataset.\"\"\"\n",
        "\n",
        "  texts = df[text_column].values\n",
        "\n",
        "  if target_column is None:\n",
        "    dataset = tf.data.Dataset.from_tensor_slices((texts))\n",
        "  else:\n",
        "    labels = df[target_column].astype(int).values\n",
        "    dataset = tf.data.Dataset.from_tensor_slices((texts, labels))\n",
        "\n",
        "  dataset = dataset.batch(batch_size)\n",
        "  return dataset"
      ],
      "metadata": {
        "id": "rH1MW8nL1hhl"
      },
      "execution_count": null,
      "outputs": []
    },
    {
      "cell_type": "code",
      "source": [
        "initial_df = pd.read_csv('/content/train.csv')\n",
        "test_df = pd.read_csv('/content/test.csv')\n",
        "print(initial_df.shape)\n",
        "initial_df.head()"
      ],
      "metadata": {
        "colab": {
          "base_uri": "https://localhost:8080/",
          "height": 224
        },
        "id": "TmEJ2s3Yvi6O",
        "outputId": "110bff8f-8c0e-4954-d631-12074ced5ff3"
      },
      "execution_count": null,
      "outputs": [
        {
          "output_type": "stream",
          "name": "stdout",
          "text": [
            "(7613, 5)\n"
          ]
        },
        {
          "output_type": "execute_result",
          "data": {
            "text/plain": [
              "   id keyword location                                               text  \\\n",
              "0   1     NaN      NaN  Our Deeds are the Reason of this #earthquake M...   \n",
              "1   4     NaN      NaN             Forest fire near La Ronge Sask. Canada   \n",
              "2   5     NaN      NaN  All residents asked to 'shelter in place' are ...   \n",
              "3   6     NaN      NaN  13,000 people receive #wildfires evacuation or...   \n",
              "4   7     NaN      NaN  Just got sent this photo from Ruby #Alaska as ...   \n",
              "\n",
              "   target  \n",
              "0       1  \n",
              "1       1  \n",
              "2       1  \n",
              "3       1  \n",
              "4       1  "
            ],
            "text/html": [
              "\n",
              "  <div id=\"df-84ad2a1d-4c62-4726-bc69-0ed5943ab3d5\" class=\"colab-df-container\">\n",
              "    <div>\n",
              "<style scoped>\n",
              "    .dataframe tbody tr th:only-of-type {\n",
              "        vertical-align: middle;\n",
              "    }\n",
              "\n",
              "    .dataframe tbody tr th {\n",
              "        vertical-align: top;\n",
              "    }\n",
              "\n",
              "    .dataframe thead th {\n",
              "        text-align: right;\n",
              "    }\n",
              "</style>\n",
              "<table border=\"1\" class=\"dataframe\">\n",
              "  <thead>\n",
              "    <tr style=\"text-align: right;\">\n",
              "      <th></th>\n",
              "      <th>id</th>\n",
              "      <th>keyword</th>\n",
              "      <th>location</th>\n",
              "      <th>text</th>\n",
              "      <th>target</th>\n",
              "    </tr>\n",
              "  </thead>\n",
              "  <tbody>\n",
              "    <tr>\n",
              "      <th>0</th>\n",
              "      <td>1</td>\n",
              "      <td>NaN</td>\n",
              "      <td>NaN</td>\n",
              "      <td>Our Deeds are the Reason of this #earthquake M...</td>\n",
              "      <td>1</td>\n",
              "    </tr>\n",
              "    <tr>\n",
              "      <th>1</th>\n",
              "      <td>4</td>\n",
              "      <td>NaN</td>\n",
              "      <td>NaN</td>\n",
              "      <td>Forest fire near La Ronge Sask. Canada</td>\n",
              "      <td>1</td>\n",
              "    </tr>\n",
              "    <tr>\n",
              "      <th>2</th>\n",
              "      <td>5</td>\n",
              "      <td>NaN</td>\n",
              "      <td>NaN</td>\n",
              "      <td>All residents asked to 'shelter in place' are ...</td>\n",
              "      <td>1</td>\n",
              "    </tr>\n",
              "    <tr>\n",
              "      <th>3</th>\n",
              "      <td>6</td>\n",
              "      <td>NaN</td>\n",
              "      <td>NaN</td>\n",
              "      <td>13,000 people receive #wildfires evacuation or...</td>\n",
              "      <td>1</td>\n",
              "    </tr>\n",
              "    <tr>\n",
              "      <th>4</th>\n",
              "      <td>7</td>\n",
              "      <td>NaN</td>\n",
              "      <td>NaN</td>\n",
              "      <td>Just got sent this photo from Ruby #Alaska as ...</td>\n",
              "      <td>1</td>\n",
              "    </tr>\n",
              "  </tbody>\n",
              "</table>\n",
              "</div>\n",
              "    <div class=\"colab-df-buttons\">\n",
              "\n",
              "  <div class=\"colab-df-container\">\n",
              "    <button class=\"colab-df-convert\" onclick=\"convertToInteractive('df-84ad2a1d-4c62-4726-bc69-0ed5943ab3d5')\"\n",
              "            title=\"Convert this dataframe to an interactive table.\"\n",
              "            style=\"display:none;\">\n",
              "\n",
              "  <svg xmlns=\"http://www.w3.org/2000/svg\" height=\"24px\" viewBox=\"0 -960 960 960\">\n",
              "    <path d=\"M120-120v-720h720v720H120Zm60-500h600v-160H180v160Zm220 220h160v-160H400v160Zm0 220h160v-160H400v160ZM180-400h160v-160H180v160Zm440 0h160v-160H620v160ZM180-180h160v-160H180v160Zm440 0h160v-160H620v160Z\"/>\n",
              "  </svg>\n",
              "    </button>\n",
              "\n",
              "  <style>\n",
              "    .colab-df-container {\n",
              "      display:flex;\n",
              "      gap: 12px;\n",
              "    }\n",
              "\n",
              "    .colab-df-convert {\n",
              "      background-color: #E8F0FE;\n",
              "      border: none;\n",
              "      border-radius: 50%;\n",
              "      cursor: pointer;\n",
              "      display: none;\n",
              "      fill: #1967D2;\n",
              "      height: 32px;\n",
              "      padding: 0 0 0 0;\n",
              "      width: 32px;\n",
              "    }\n",
              "\n",
              "    .colab-df-convert:hover {\n",
              "      background-color: #E2EBFA;\n",
              "      box-shadow: 0px 1px 2px rgba(60, 64, 67, 0.3), 0px 1px 3px 1px rgba(60, 64, 67, 0.15);\n",
              "      fill: #174EA6;\n",
              "    }\n",
              "\n",
              "    .colab-df-buttons div {\n",
              "      margin-bottom: 4px;\n",
              "    }\n",
              "\n",
              "    [theme=dark] .colab-df-convert {\n",
              "      background-color: #3B4455;\n",
              "      fill: #D2E3FC;\n",
              "    }\n",
              "\n",
              "    [theme=dark] .colab-df-convert:hover {\n",
              "      background-color: #434B5C;\n",
              "      box-shadow: 0px 1px 3px 1px rgba(0, 0, 0, 0.15);\n",
              "      filter: drop-shadow(0px 1px 2px rgba(0, 0, 0, 0.3));\n",
              "      fill: #FFFFFF;\n",
              "    }\n",
              "  </style>\n",
              "\n",
              "    <script>\n",
              "      const buttonEl =\n",
              "        document.querySelector('#df-84ad2a1d-4c62-4726-bc69-0ed5943ab3d5 button.colab-df-convert');\n",
              "      buttonEl.style.display =\n",
              "        google.colab.kernel.accessAllowed ? 'block' : 'none';\n",
              "\n",
              "      async function convertToInteractive(key) {\n",
              "        const element = document.querySelector('#df-84ad2a1d-4c62-4726-bc69-0ed5943ab3d5');\n",
              "        const dataTable =\n",
              "          await google.colab.kernel.invokeFunction('convertToInteractive',\n",
              "                                                    [key], {});\n",
              "        if (!dataTable) return;\n",
              "\n",
              "        const docLinkHtml = 'Like what you see? Visit the ' +\n",
              "          '<a target=\"_blank\" href=https://colab.research.google.com/notebooks/data_table.ipynb>data table notebook</a>'\n",
              "          + ' to learn more about interactive tables.';\n",
              "        element.innerHTML = '';\n",
              "        dataTable['output_type'] = 'display_data';\n",
              "        await google.colab.output.renderOutput(dataTable, element);\n",
              "        const docLink = document.createElement('div');\n",
              "        docLink.innerHTML = docLinkHtml;\n",
              "        element.appendChild(docLink);\n",
              "      }\n",
              "    </script>\n",
              "  </div>\n",
              "\n",
              "\n",
              "<div id=\"df-5efd2266-4c8b-410b-ab9d-4a12dacc909a\">\n",
              "  <button class=\"colab-df-quickchart\" onclick=\"quickchart('df-5efd2266-4c8b-410b-ab9d-4a12dacc909a')\"\n",
              "            title=\"Suggest charts\"\n",
              "            style=\"display:none;\">\n",
              "\n",
              "<svg xmlns=\"http://www.w3.org/2000/svg\" height=\"24px\"viewBox=\"0 0 24 24\"\n",
              "     width=\"24px\">\n",
              "    <g>\n",
              "        <path d=\"M19 3H5c-1.1 0-2 .9-2 2v14c0 1.1.9 2 2 2h14c1.1 0 2-.9 2-2V5c0-1.1-.9-2-2-2zM9 17H7v-7h2v7zm4 0h-2V7h2v10zm4 0h-2v-4h2v4z\"/>\n",
              "    </g>\n",
              "</svg>\n",
              "  </button>\n",
              "\n",
              "<style>\n",
              "  .colab-df-quickchart {\n",
              "      --bg-color: #E8F0FE;\n",
              "      --fill-color: #1967D2;\n",
              "      --hover-bg-color: #E2EBFA;\n",
              "      --hover-fill-color: #174EA6;\n",
              "      --disabled-fill-color: #AAA;\n",
              "      --disabled-bg-color: #DDD;\n",
              "  }\n",
              "\n",
              "  [theme=dark] .colab-df-quickchart {\n",
              "      --bg-color: #3B4455;\n",
              "      --fill-color: #D2E3FC;\n",
              "      --hover-bg-color: #434B5C;\n",
              "      --hover-fill-color: #FFFFFF;\n",
              "      --disabled-bg-color: #3B4455;\n",
              "      --disabled-fill-color: #666;\n",
              "  }\n",
              "\n",
              "  .colab-df-quickchart {\n",
              "    background-color: var(--bg-color);\n",
              "    border: none;\n",
              "    border-radius: 50%;\n",
              "    cursor: pointer;\n",
              "    display: none;\n",
              "    fill: var(--fill-color);\n",
              "    height: 32px;\n",
              "    padding: 0;\n",
              "    width: 32px;\n",
              "  }\n",
              "\n",
              "  .colab-df-quickchart:hover {\n",
              "    background-color: var(--hover-bg-color);\n",
              "    box-shadow: 0 1px 2px rgba(60, 64, 67, 0.3), 0 1px 3px 1px rgba(60, 64, 67, 0.15);\n",
              "    fill: var(--button-hover-fill-color);\n",
              "  }\n",
              "\n",
              "  .colab-df-quickchart-complete:disabled,\n",
              "  .colab-df-quickchart-complete:disabled:hover {\n",
              "    background-color: var(--disabled-bg-color);\n",
              "    fill: var(--disabled-fill-color);\n",
              "    box-shadow: none;\n",
              "  }\n",
              "\n",
              "  .colab-df-spinner {\n",
              "    border: 2px solid var(--fill-color);\n",
              "    border-color: transparent;\n",
              "    border-bottom-color: var(--fill-color);\n",
              "    animation:\n",
              "      spin 1s steps(1) infinite;\n",
              "  }\n",
              "\n",
              "  @keyframes spin {\n",
              "    0% {\n",
              "      border-color: transparent;\n",
              "      border-bottom-color: var(--fill-color);\n",
              "      border-left-color: var(--fill-color);\n",
              "    }\n",
              "    20% {\n",
              "      border-color: transparent;\n",
              "      border-left-color: var(--fill-color);\n",
              "      border-top-color: var(--fill-color);\n",
              "    }\n",
              "    30% {\n",
              "      border-color: transparent;\n",
              "      border-left-color: var(--fill-color);\n",
              "      border-top-color: var(--fill-color);\n",
              "      border-right-color: var(--fill-color);\n",
              "    }\n",
              "    40% {\n",
              "      border-color: transparent;\n",
              "      border-right-color: var(--fill-color);\n",
              "      border-top-color: var(--fill-color);\n",
              "    }\n",
              "    60% {\n",
              "      border-color: transparent;\n",
              "      border-right-color: var(--fill-color);\n",
              "    }\n",
              "    80% {\n",
              "      border-color: transparent;\n",
              "      border-right-color: var(--fill-color);\n",
              "      border-bottom-color: var(--fill-color);\n",
              "    }\n",
              "    90% {\n",
              "      border-color: transparent;\n",
              "      border-bottom-color: var(--fill-color);\n",
              "    }\n",
              "  }\n",
              "</style>\n",
              "\n",
              "  <script>\n",
              "    async function quickchart(key) {\n",
              "      const quickchartButtonEl =\n",
              "        document.querySelector('#' + key + ' button');\n",
              "      quickchartButtonEl.disabled = true;  // To prevent multiple clicks.\n",
              "      quickchartButtonEl.classList.add('colab-df-spinner');\n",
              "      try {\n",
              "        const charts = await google.colab.kernel.invokeFunction(\n",
              "            'suggestCharts', [key], {});\n",
              "      } catch (error) {\n",
              "        console.error('Error during call to suggestCharts:', error);\n",
              "      }\n",
              "      quickchartButtonEl.classList.remove('colab-df-spinner');\n",
              "      quickchartButtonEl.classList.add('colab-df-quickchart-complete');\n",
              "    }\n",
              "    (() => {\n",
              "      let quickchartButtonEl =\n",
              "        document.querySelector('#df-5efd2266-4c8b-410b-ab9d-4a12dacc909a button');\n",
              "      quickchartButtonEl.style.display =\n",
              "        google.colab.kernel.accessAllowed ? 'block' : 'none';\n",
              "    })();\n",
              "  </script>\n",
              "</div>\n",
              "\n",
              "    </div>\n",
              "  </div>\n"
            ],
            "application/vnd.google.colaboratory.intrinsic+json": {
              "type": "dataframe",
              "variable_name": "initial_df",
              "summary": "{\n  \"name\": \"initial_df\",\n  \"rows\": 7613,\n  \"fields\": [\n    {\n      \"column\": \"id\",\n      \"properties\": {\n        \"dtype\": \"number\",\n        \"std\": 3137,\n        \"min\": 1,\n        \"max\": 10873,\n        \"num_unique_values\": 7613,\n        \"samples\": [\n          3796,\n          3185,\n          7769\n        ],\n        \"semantic_type\": \"\",\n        \"description\": \"\"\n      }\n    },\n    {\n      \"column\": \"keyword\",\n      \"properties\": {\n        \"dtype\": \"category\",\n        \"num_unique_values\": 221,\n        \"samples\": [\n          \"injury\",\n          \"nuclear%20reactor\",\n          \"engulfed\"\n        ],\n        \"semantic_type\": \"\",\n        \"description\": \"\"\n      }\n    },\n    {\n      \"column\": \"location\",\n      \"properties\": {\n        \"dtype\": \"category\",\n        \"num_unique_values\": 3341,\n        \"samples\": [\n          \"Oklahoma\",\n          \"Starling City\",\n          \"Trinidad and Tobago\"\n        ],\n        \"semantic_type\": \"\",\n        \"description\": \"\"\n      }\n    },\n    {\n      \"column\": \"text\",\n      \"properties\": {\n        \"dtype\": \"string\",\n        \"num_unique_values\": 7503,\n        \"samples\": [\n          \"Three Homes Demolished in Unrecognized Arab Village - International Middle East Media Center http://t.co/ik8m4Yi9T4\",\n          \"Reid Lake fire prompts campground evacuation order http://t.co/jBODKM6rBU\",\n          \"FAAN orders evacuation of abandoned aircraft at MMA http://t.co/dEvYbnVXGQ via @todayng\"\n        ],\n        \"semantic_type\": \"\",\n        \"description\": \"\"\n      }\n    },\n    {\n      \"column\": \"target\",\n      \"properties\": {\n        \"dtype\": \"number\",\n        \"std\": 0,\n        \"min\": 0,\n        \"max\": 1,\n        \"num_unique_values\": 2,\n        \"samples\": [\n          0,\n          1\n        ],\n        \"semantic_type\": \"\",\n        \"description\": \"\"\n      }\n    }\n  ]\n}"
            }
          },
          "metadata": {},
          "execution_count": 3
        }
      ]
    },
    {
      "cell_type": "markdown",
      "source": [
        "### Exploratory Data Analysis"
      ],
      "metadata": {
        "id": "t6yOhdSXfJBY"
      }
    },
    {
      "cell_type": "code",
      "source": [
        "category_counts = initial_df['target'].value_counts()\n",
        "# Create the histogram\n",
        "plt.bar(category_counts.index, category_counts.values)\n",
        "# Add labels and title\n",
        "plt.xlabel('Target')\n",
        "plt.ylabel('Count')\n",
        "plt.title('Histogram of Target Counts')\n",
        "# Show the plot\n",
        "plt.show()"
      ],
      "metadata": {
        "colab": {
          "base_uri": "https://localhost:8080/",
          "height": 472
        },
        "id": "1QNW-jaxZiHA",
        "outputId": "33644342-f33f-494d-b9c5-e4b84d27d1da"
      },
      "execution_count": null,
      "outputs": [
        {
          "output_type": "display_data",
          "data": {
            "text/plain": [
              "<Figure size 640x480 with 1 Axes>"
            ],
            "image/png": "[encoded data removed]"
          },
          "metadata": {}
        }
      ]
    },
    {
      "cell_type": "code",
      "source": [
        " initial_df['text_len'] = initial_df[\"text\"].apply(len)"
      ],
      "metadata": {
        "id": "M-eNsGaqZ6eg"
      },
      "execution_count": null,
      "outputs": []
    },
    {
      "cell_type": "code",
      "source": [
        "initial_df.describe()"
      ],
      "metadata": {
        "colab": {
          "base_uri": "https://localhost:8080/",
          "height": 300
        },
        "id": "46E-LVWsaGWf",
        "outputId": "9f12857f-cfbe-4d4a-976b-4f8f5f15d554"
      },
      "execution_count": null,
      "outputs": [
        {
          "output_type": "execute_result",
          "data": {
            "text/plain": [
              "                 id      target     text_len\n",
              "count   7613.000000  7613.00000  7613.000000\n",
              "mean    5441.934848     0.42966   101.037436\n",
              "std     3137.116090     0.49506    33.781325\n",
              "min        1.000000     0.00000     7.000000\n",
              "25%     2734.000000     0.00000    78.000000\n",
              "50%     5408.000000     0.00000   107.000000\n",
              "75%     8146.000000     1.00000   133.000000\n",
              "max    10873.000000     1.00000   157.000000"
            ],
            "text/html": [
              "\n",
              "  <div id=\"df-525c91f3-6589-4680-a10e-f74a132e7e6b\" class=\"colab-df-container\">\n",
              "    <div>\n",
              "<style scoped>\n",
              "    .dataframe tbody tr th:only-of-type {\n",
              "        vertical-align: middle;\n",
              "    }\n",
              "\n",
              "    .dataframe tbody tr th {\n",
              "        vertical-align: top;\n",
              "    }\n",
              "\n",
              "    .dataframe thead th {\n",
              "        text-align: right;\n",
              "    }\n",
              "</style>\n",
              "<table border=\"1\" class=\"dataframe\">\n",
              "  <thead>\n",
              "    <tr style=\"text-align: right;\">\n",
              "      <th></th>\n",
              "      <th>id</th>\n",
              "      <th>target</th>\n",
              "      <th>text_len</th>\n",
              "    </tr>\n",
              "  </thead>\n",
              "  <tbody>\n",
              "    <tr>\n",
              "      <th>count</th>\n",
              "      <td>7613.000000</td>\n",
              "      <td>7613.00000</td>\n",
              "      <td>7613.000000</td>\n",
              "    </tr>\n",
              "    <tr>\n",
              "      <th>mean</th>\n",
              "      <td>5441.934848</td>\n",
              "      <td>0.42966</td>\n",
              "      <td>101.037436</td>\n",
              "    </tr>\n",
              "    <tr>\n",
              "      <th>std</th>\n",
              "      <td>3137.116090</td>\n",
              "      <td>0.49506</td>\n",
              "      <td>33.781325</td>\n",
              "    </tr>\n",
              "    <tr>\n",
              "      <th>min</th>\n",
              "      <td>1.000000</td>\n",
              "      <td>0.00000</td>\n",
              "      <td>7.000000</td>\n",
              "    </tr>\n",
              "    <tr>\n",
              "      <th>25%</th>\n",
              "      <td>2734.000000</td>\n",
              "      <td>0.00000</td>\n",
              "      <td>78.000000</td>\n",
              "    </tr>\n",
              "    <tr>\n",
              "      <th>50%</th>\n",
              "      <td>5408.000000</td>\n",
              "      <td>0.00000</td>\n",
              "      <td>107.000000</td>\n",
              "    </tr>\n",
              "    <tr>\n",
              "      <th>75%</th>\n",
              "      <td>8146.000000</td>\n",
              "      <td>1.00000</td>\n",
              "      <td>133.000000</td>\n",
              "    </tr>\n",
              "    <tr>\n",
              "      <th>max</th>\n",
              "      <td>10873.000000</td>\n",
              "      <td>1.00000</td>\n",
              "      <td>157.000000</td>\n",
              "    </tr>\n",
              "  </tbody>\n",
              "</table>\n",
              "</div>\n",
              "    <div class=\"colab-df-buttons\">\n",
              "\n",
              "  <div class=\"colab-df-container\">\n",
              "    <button class=\"colab-df-convert\" onclick=\"convertToInteractive('df-525c91f3-6589-4680-a10e-f74a132e7e6b')\"\n",
              "            title=\"Convert this dataframe to an interactive table.\"\n",
              "            style=\"display:none;\">\n",
              "\n",
              "  <svg xmlns=\"http://www.w3.org/2000/svg\" height=\"24px\" viewBox=\"0 -960 960 960\">\n",
              "    <path d=\"M120-120v-720h720v720H120Zm60-500h600v-160H180v160Zm220 220h160v-160H400v160Zm0 220h160v-160H400v160ZM180-400h160v-160H180v160Zm440 0h160v-160H620v160ZM180-180h160v-160H180v160Zm440 0h160v-160H620v160Z\"/>\n",
              "  </svg>\n",
              "    </button>\n",
              "\n",
              "  <style>\n",
              "    .colab-df-container {\n",
              "      display:flex;\n",
              "      gap: 12px;\n",
              "    }\n",
              "\n",
              "    .colab-df-convert {\n",
              "      background-color: #E8F0FE;\n",
              "      border: none;\n",
              "      border-radius: 50%;\n",
              "      cursor: pointer;\n",
              "      display: none;\n",
              "      fill: #1967D2;\n",
              "      height: 32px;\n",
              "      padding: 0 0 0 0;\n",
              "      width: 32px;\n",
              "    }\n",
              "\n",
              "    .colab-df-convert:hover {\n",
              "      background-color: #E2EBFA;\n",
              "      box-shadow: 0px 1px 2px rgba(60, 64, 67, 0.3), 0px 1px 3px 1px rgba(60, 64, 67, 0.15);\n",
              "      fill: #174EA6;\n",
              "    }\n",
              "\n",
              "    .colab-df-buttons div {\n",
              "      margin-bottom: 4px;\n",
              "    }\n",
              "\n",
              "    [theme=dark] .colab-df-convert {\n",
              "      background-color: #3B4455;\n",
              "      fill: #D2E3FC;\n",
              "    }\n",
              "\n",
              "    [theme=dark] .colab-df-convert:hover {\n",
              "      background-color: #434B5C;\n",
              "      box-shadow: 0px 1px 3px 1px rgba(0, 0, 0, 0.15);\n",
              "      filter: drop-shadow(0px 1px 2px rgba(0, 0, 0, 0.3));\n",
              "      fill: #FFFFFF;\n",
              "    }\n",
              "  </style>\n",
              "\n",
              "    <script>\n",
              "      const buttonEl =\n",
              "        document.querySelector('#df-525c91f3-6589-4680-a10e-f74a132e7e6b button.colab-df-convert');\n",
              "      buttonEl.style.display =\n",
              "        google.colab.kernel.accessAllowed ? 'block' : 'none';\n",
              "\n",
              "      async function convertToInteractive(key) {\n",
              "        const element = document.querySelector('#df-525c91f3-6589-4680-a10e-f74a132e7e6b');\n",
              "        const dataTable =\n",
              "          await google.colab.kernel.invokeFunction('convertToInteractive',\n",
              "                                                    [key], {});\n",
              "        if (!dataTable) return;\n",
              "\n",
              "        const docLinkHtml = 'Like what you see? Visit the ' +\n",
              "          '<a target=\"_blank\" href=https://colab.research.google.com/notebooks/data_table.ipynb>data table notebook</a>'\n",
              "          + ' to learn more about interactive tables.';\n",
              "        element.innerHTML = '';\n",
              "        dataTable['output_type'] = 'display_data';\n",
              "        await google.colab.output.renderOutput(dataTable, element);\n",
              "        const docLink = document.createElement('div');\n",
              "        docLink.innerHTML = docLinkHtml;\n",
              "        element.appendChild(docLink);\n",
              "      }\n",
              "    </script>\n",
              "  </div>\n",
              "\n",
              "\n",
              "<div id=\"df-9c98b79e-1e4d-4d60-b8a1-cd441b8cc32f\">\n",
              "  <button class=\"colab-df-quickchart\" onclick=\"quickchart('df-9c98b79e-1e4d-4d60-b8a1-cd441b8cc32f')\"\n",
              "            title=\"Suggest charts\"\n",
              "            style=\"display:none;\">\n",
              "\n",
              "<svg xmlns=\"http://www.w3.org/2000/svg\" height=\"24px\"viewBox=\"0 0 24 24\"\n",
              "     width=\"24px\">\n",
              "    <g>\n",
              "        <path d=\"M19 3H5c-1.1 0-2 .9-2 2v14c0 1.1.9 2 2 2h14c1.1 0 2-.9 2-2V5c0-1.1-.9-2-2-2zM9 17H7v-7h2v7zm4 0h-2V7h2v10zm4 0h-2v-4h2v4z\"/>\n",
              "    </g>\n",
              "</svg>\n",
              "  </button>\n",
              "\n",
              "<style>\n",
              "  .colab-df-quickchart {\n",
              "      --bg-color: #E8F0FE;\n",
              "      --fill-color: #1967D2;\n",
              "      --hover-bg-color: #E2EBFA;\n",
              "      --hover-fill-color: #174EA6;\n",
              "      --disabled-fill-color: #AAA;\n",
              "      --disabled-bg-color: #DDD;\n",
              "  }\n",
              "\n",
              "  [theme=dark] .colab-df-quickchart {\n",
              "      --bg-color: #3B4455;\n",
              "      --fill-color: #D2E3FC;\n",
              "      --hover-bg-color: #434B5C;\n",
              "      --hover-fill-color: #FFFFFF;\n",
              "      --disabled-bg-color: #3B4455;\n",
              "      --disabled-fill-color: #666;\n",
              "  }\n",
              "\n",
              "  .colab-df-quickchart {\n",
              "    background-color: var(--bg-color);\n",
              "    border: none;\n",
              "    border-radius: 50%;\n",
              "    cursor: pointer;\n",
              "    display: none;\n",
              "    fill: var(--fill-color);\n",
              "    height: 32px;\n",
              "    padding: 0;\n",
              "    width: 32px;\n",
              "  }\n",
              "\n",
              "  .colab-df-quickchart:hover {\n",
              "    background-color: var(--hover-bg-color);\n",
              "    box-shadow: 0 1px 2px rgba(60, 64, 67, 0.3), 0 1px 3px 1px rgba(60, 64, 67, 0.15);\n",
              "    fill: var(--button-hover-fill-color);\n",
              "  }\n",
              "\n",
              "  .colab-df-quickchart-complete:disabled,\n",
              "  .colab-df-quickchart-complete:disabled:hover {\n",
              "    background-color: var(--disabled-bg-color);\n",
              "    fill: var(--disabled-fill-color);\n",
              "    box-shadow: none;\n",
              "  }\n",
              "\n",
              "  .colab-df-spinner {\n",
              "    border: 2px solid var(--fill-color);\n",
              "    border-color: transparent;\n",
              "    border-bottom-color: var(--fill-color);\n",
              "    animation:\n",
              "      spin 1s steps(1) infinite;\n",
              "  }\n",
              "\n",
              "  @keyframes spin {\n",
              "    0% {\n",
              "      border-color: transparent;\n",
              "      border-bottom-color: var(--fill-color);\n",
              "      border-left-color: var(--fill-color);\n",
              "    }\n",
              "    20% {\n",
              "      border-color: transparent;\n",
              "      border-left-color: var(--fill-color);\n",
              "      border-top-color: var(--fill-color);\n",
              "    }\n",
              "    30% {\n",
              "      border-color: transparent;\n",
              "      border-left-color: var(--fill-color);\n",
              "      border-top-color: var(--fill-color);\n",
              "      border-right-color: var(--fill-color);\n",
              "    }\n",
              "    40% {\n",
              "      border-color: transparent;\n",
              "      border-right-color: var(--fill-color);\n",
              "      border-top-color: var(--fill-color);\n",
              "    }\n",
              "    60% {\n",
              "      border-color: transparent;\n",
              "      border-right-color: var(--fill-color);\n",
              "    }\n",
              "    80% {\n",
              "      border-color: transparent;\n",
              "      border-right-color: var(--fill-color);\n",
              "      border-bottom-color: var(--fill-color);\n",
              "    }\n",
              "    90% {\n",
              "      border-color: transparent;\n",
              "      border-bottom-color: var(--fill-color);\n",
              "    }\n",
              "  }\n",
              "</style>\n",
              "\n",
              "  <script>\n",
              "    async function quickchart(key) {\n",
              "      const quickchartButtonEl =\n",
              "        document.querySelector('#' + key + ' button');\n",
              "      quickchartButtonEl.disabled = true;  // To prevent multiple clicks.\n",
              "      quickchartButtonEl.classList.add('colab-df-spinner');\n",
              "      try {\n",
              "        const charts = await google.colab.kernel.invokeFunction(\n",
              "            'suggestCharts', [key], {});\n",
              "      } catch (error) {\n",
              "        console.error('Error during call to suggestCharts:', error);\n",
              "      }\n",
              "      quickchartButtonEl.classList.remove('colab-df-spinner');\n",
              "      quickchartButtonEl.classList.add('colab-df-quickchart-complete');\n",
              "    }\n",
              "    (() => {\n",
              "      let quickchartButtonEl =\n",
              "        document.querySelector('#df-9c98b79e-1e4d-4d60-b8a1-cd441b8cc32f button');\n",
              "      quickchartButtonEl.style.display =\n",
              "        google.colab.kernel.accessAllowed ? 'block' : 'none';\n",
              "    })();\n",
              "  </script>\n",
              "</div>\n",
              "\n",
              "    </div>\n",
              "  </div>\n"
            ],
            "application/vnd.google.colaboratory.intrinsic+json": {
              "type": "dataframe",
              "summary": "{\n  \"name\": \"initial_df\",\n  \"rows\": 8,\n  \"fields\": [\n    {\n      \"column\": \"id\",\n      \"properties\": {\n        \"dtype\": \"number\",\n        \"std\": 3459.3118775230537,\n        \"min\": 1.0,\n        \"max\": 10873.0,\n        \"num_unique_values\": 8,\n        \"samples\": [\n          5441.934848285827,\n          5408.0,\n          7613.0\n        ],\n        \"semantic_type\": \"\",\n        \"description\": \"\"\n      }\n    },\n    {\n      \"column\": \"target\",\n      \"properties\": {\n        \"dtype\": \"number\",\n        \"std\": 2691.454273978321,\n        \"min\": 0.0,\n        \"max\": 7613.0,\n        \"num_unique_values\": 5,\n        \"samples\": [\n          0.4296597924602653,\n          1.0,\n          0.4950600449341643\n        ],\n        \"semantic_type\": \"\",\n        \"description\": \"\"\n      }\n    },\n    {\n      \"column\": \"text_len\",\n      \"properties\": {\n        \"dtype\": \"number\",\n        \"std\": 2660.9020794927815,\n        \"min\": 7.0,\n        \"max\": 7613.0,\n        \"num_unique_values\": 8,\n        \"samples\": [\n          101.03743596479706,\n          107.0,\n          7613.0\n        ],\n        \"semantic_type\": \"\",\n        \"description\": \"\"\n      }\n    }\n  ]\n}"
            }
          },
          "metadata": {},
          "execution_count": 7
        }
      ]
    },
    {
      "cell_type": "code",
      "source": [
        "grouped = initial_df.groupby('target')\n",
        "# Plot histograms for each category\n",
        "plt.figure(figsize=(8, 6))\n",
        "for name, group in grouped:\n",
        "  plt.hist(group['text_len'], bins=5, alpha=0.5, label=name, density=True)\n",
        "plt.xlabel('Tweet Length')\n",
        "plt.ylabel('Density')\n",
        "plt.title('Tweet Length Distribution by Disaster Status')\n",
        "plt.legend(title='Disaster Status')\n",
        "plt.show()"
      ],
      "metadata": {
        "colab": {
          "base_uri": "https://localhost:8080/",
          "height": 564
        },
        "id": "IeIP3FWpaQoI",
        "outputId": "a6b9b3fa-f88e-41d5-b060-0e672530f2e9"
      },
      "execution_count": null,
      "outputs": [
        {
          "output_type": "display_data",
          "data": {
            "text/plain": [
              "<Figure size 800x600 with 1 Axes>"
            ],
            "image/png": "[encoded data removed]"
          },
          "metadata": {}
        }
      ]
    },
    {
      "cell_type": "markdown",
      "source": [
        "Tweets about disasters do tend to be longer than non-disaster tweets and there's a slight imbalance in the dataset but nothing that requires extra measures in my opinion - especially considering that we don't have very much training data to begin with. I wouldn't want to downsample and lose training examples."
      ],
      "metadata": {
        "id": "ZPv7UcN-h_gA"
      }
    },
    {
      "cell_type": "markdown",
      "source": [
        "### Dataset Prep and Initial Model Creation"
      ],
      "metadata": {
        "id": "fTTzHni5fWAp"
      }
    },
    {
      "cell_type": "code",
      "source": [
        "train_df, valid_df = train_test_split(initial_df, test_size=0.2, random_state=121, stratify=initial_df.target)\n",
        "\n",
        "print(train_df.shape)\n",
        "print(valid_df.shape)"
      ],
      "metadata": {
        "colab": {
          "base_uri": "https://localhost:8080/"
        },
        "id": "3BFXeq9BwytH",
        "outputId": "ee00ae8d-4745-45ca-ab70-3857b7e73f06"
      },
      "execution_count": null,
      "outputs": [
        {
          "output_type": "stream",
          "name": "stdout",
          "text": [
            "(6090, 5)\n",
            "(1523, 5)\n"
          ]
        }
      ]
    },
    {
      "cell_type": "code",
      "source": [
        "train_tf = pandas_to_dataset(train_df, 'text', 'target')\n",
        "valid_tf = pandas_to_dataset(valid_df, 'text', 'target')\n",
        "test_tf = pandas_to_dataset(test_df, 'text', None)"
      ],
      "metadata": {
        "id": "ZnkqTq3Nxzg9"
      },
      "execution_count": null,
      "outputs": []
    },
    {
      "cell_type": "code",
      "source": [
        "example, label = next(iter(train_tf))\n",
        "print('Text:\\n', example.numpy()[0])\n",
        "print('\\nLabel: ', label.numpy()[0])"
      ],
      "metadata": {
        "colab": {
          "base_uri": "https://localhost:8080/"
        },
        "id": "WmQA4CH22Hdh",
        "outputId": "37ab7f88-7775-4a6e-c37d-32f94fedcf3f"
      },
      "execution_count": null,
      "outputs": [
        {
          "output_type": "stream",
          "name": "stdout",
          "text": [
            "Text:\n",
            " b'Julie + R is the apocalypse version of Romeo + Juliet #warmbodies'\n",
            "\n",
            "Label:  0\n"
          ]
        }
      ]
    },
    {
      "cell_type": "code",
      "source": [
        "encoder = tf.keras.layers.TextVectorization(max_tokens=10000)\n",
        "encoder.adapt(train_tf.map(lambda text, _: text))\n",
        "\n",
        "# Extracting the vocabulary from the TextVectorization layer.\n",
        "vocabulary = np.array(encoder.get_vocabulary())\n",
        "\n",
        "# Encoding a test example and decoding it back.\n",
        "original_text = example.numpy()[0]\n",
        "encoded_text = encoder(original_text).numpy()\n",
        "decoded_text = ' '.join(vocabulary[encoded_text])\n",
        "\n",
        "print('original: ', original_text)\n",
        "print('encoded: ', encoded_text)\n",
        "print('decoded: ', decoded_text)"
      ],
      "metadata": {
        "colab": {
          "base_uri": "https://localhost:8080/"
        },
        "id": "O7JtSR40xXql",
        "outputId": "08f55c8f-fe04-4513-9603-8f2c760a36a1"
      },
      "execution_count": null,
      "outputs": [
        {
          "output_type": "stream",
          "name": "stdout",
          "text": [
            "original:  b'Julie + R is the apocalypse version of Romeo + Juliet #warmbodies'\n",
            "encoded:  [3426  897    9    2  650 1154    6 8363    1 6426]\n",
            "decoded:  julie r is the apocalypse version of romeo [UNK] warmbodies\n"
          ]
        }
      ]
    },
    {
      "cell_type": "code",
      "source": [
        "len(encoder.get_vocabulary())"
      ],
      "metadata": {
        "colab": {
          "base_uri": "https://localhost:8080/"
        },
        "id": "KctGM2Wo3cKK",
        "outputId": "7ecacd5c-cea0-4a2f-fe76-e1436e9c1b0a"
      },
      "execution_count": null,
      "outputs": [
        {
          "output_type": "execute_result",
          "data": {
            "text/plain": [
              "10000"
            ]
          },
          "metadata": {},
          "execution_count": 18
        }
      ]
    },
    {
      "cell_type": "markdown",
      "source": [
        "I've decided to create a straightforward LSTM model to set the baseline for this task. The dataset is fairly small so I want to start with a simple model architecture. The memory component of the LSTM layers are well-suited to the task of putting words in context with one another to determine whether or not the text pertains to a disaster."
      ],
      "metadata": {
        "id": "EebACdUh8H-i"
      }
    },
    {
      "cell_type": "code",
      "source": [
        "# Creating the model\n",
        "model = tf.keras.Sequential([\n",
        "\ttf.keras.Input(shape=(1,), dtype=tf.string),\n",
        "  encoder,\n",
        "\ttf.keras.layers.Embedding(\n",
        "\t\tlen(encoder.get_vocabulary()), 64, mask_zero=True),\n",
        "\ttf.keras.layers.Bidirectional(\n",
        "\t\ttf.keras.layers.LSTM(64, return_sequences=True)),\n",
        "\ttf.keras.layers.Bidirectional(tf.keras.layers.LSTM(32)),\n",
        "\ttf.keras.layers.Dense(64, activation='relu'),\n",
        "\ttf.keras.layers.Dense(1, activation = 'sigmoid')\n",
        "])\n",
        "\n",
        "# Summary of the model\n",
        "model.summary()\n",
        "\n",
        "# Compile the model\n",
        "model.compile(\n",
        "\tloss=tf.keras.losses.BinaryCrossentropy(),\n",
        "\toptimizer=tf.keras.optimizers.Adam(),\n",
        "\tmetrics=['accuracy']\n",
        ")"
      ],
      "metadata": {
        "colab": {
          "base_uri": "https://localhost:8080/",
          "height": 357
        },
        "id": "oEbTTjXf2bP9",
        "outputId": "cff630fa-3063-471c-d238-fe70da821121"
      },
      "execution_count": null,
      "outputs": [
        {
          "output_type": "display_data",
          "data": {
            "text/plain": [
              "\u001b[1mModel: \"sequential_16\"\u001b[0m\n"
            ],
            "text/html": [
              "<pre style=\"white-space:pre;overflow-x:auto;line-height:normal;font-family:Menlo,'DejaVu Sans Mono',consolas,'Courier New',monospace\"><span style=\"font-weight: bold\">Model: \"sequential_16\"</span>\n",
              "</pre>\n"
            ]
          },
          "metadata": {}
        },
        {
          "output_type": "display_data",
          "data": {
            "text/plain": [
              "┏━━━━━━━━━━━━━━━━━━━━━━━━━━━━━━━━━━━━━━┳━━━━━━━━━━━━━━━━━━━━━━━━━━━━━┳━━━━━━━━━━━━━━━━━┓\n",
              "┃\u001b[1m \u001b[0m\u001b[1mLayer (type)                        \u001b[0m\u001b[1m \u001b[0m┃\u001b[1m \u001b[0m\u001b[1mOutput Shape               \u001b[0m\u001b[1m \u001b[0m┃\u001b[1m \u001b[0m\u001b[1m        Param #\u001b[0m\u001b[1m \u001b[0m┃\n",
              "┡━━━━━━━━━━━━━━━━━━━━━━━━━━━━━━━━━━━━━━╇━━━━━━━━━━━━━━━━━━━━━━━━━━━━━╇━━━━━━━━━━━━━━━━━┩\n",
              "│ text_vectorization_5                 │ (\u001b[38;5;45mNone\u001b[0m, \u001b[38;5;45mNone\u001b[0m)                │               \u001b[38;5;34m0\u001b[0m │\n",
              "│ (\u001b[38;5;33mTextVectorization\u001b[0m)                  │                             │                 │\n",
              "├──────────────────────────────────────┼─────────────────────────────┼─────────────────┤\n",
              "│ embedding_16 (\u001b[38;5;33mEmbedding\u001b[0m)             │ (\u001b[38;5;45mNone\u001b[0m, \u001b[38;5;45mNone\u001b[0m, \u001b[38;5;34m64\u001b[0m)            │         \u001b[38;5;34m320,000\u001b[0m │\n",
              "├──────────────────────────────────────┼─────────────────────────────┼─────────────────┤\n",
              "│ bidirectional_12 (\u001b[38;5;33mBidirectional\u001b[0m)     │ (\u001b[38;5;45mNone\u001b[0m, \u001b[38;5;45mNone\u001b[0m, \u001b[38;5;34m128\u001b[0m)           │          \u001b[38;5;34m66,048\u001b[0m │\n",
              "├──────────────────────────────────────┼─────────────────────────────┼─────────────────┤\n",
              "│ bidirectional_13 (\u001b[38;5;33mBidirectional\u001b[0m)     │ (\u001b[38;5;45mNone\u001b[0m, \u001b[38;5;34m64\u001b[0m)                  │          \u001b[38;5;34m41,216\u001b[0m │\n",
              "├──────────────────────────────────────┼─────────────────────────────┼─────────────────┤\n",
              "│ dense_32 (\u001b[38;5;33mDense\u001b[0m)                     │ (\u001b[38;5;45mNone\u001b[0m, \u001b[38;5;34m64\u001b[0m)                  │           \u001b[38;5;34m4,160\u001b[0m │\n",
              "├──────────────────────────────────────┼─────────────────────────────┼─────────────────┤\n",
              "│ dense_33 (\u001b[38;5;33mDense\u001b[0m)                     │ (\u001b[38;5;45mNone\u001b[0m, \u001b[38;5;34m1\u001b[0m)                   │              \u001b[38;5;34m65\u001b[0m │\n",
              "└──────────────────────────────────────┴─────────────────────────────┴─────────────────┘\n"
            ],
            "text/html": [
              "<pre style=\"white-space:pre;overflow-x:auto;line-height:normal;font-family:Menlo,'DejaVu Sans Mono',consolas,'Courier New',monospace\">┏━━━━━━━━━━━━━━━━━━━━━━━━━━━━━━━━━━━━━━┳━━━━━━━━━━━━━━━━━━━━━━━━━━━━━┳━━━━━━━━━━━━━━━━━┓\n",
              "┃<span style=\"font-weight: bold\"> Layer (type)                         </span>┃<span style=\"font-weight: bold\"> Output Shape                </span>┃<span style=\"font-weight: bold\">         Param # </span>┃\n",
              "┡━━━━━━━━━━━━━━━━━━━━━━━━━━━━━━━━━━━━━━╇━━━━━━━━━━━━━━━━━━━━━━━━━━━━━╇━━━━━━━━━━━━━━━━━┩\n",
              "│ text_vectorization_5                 │ (<span style=\"color: #00d7ff; text-decoration-color: #00d7ff\">None</span>, <span style=\"color: #00d7ff; text-decoration-color: #00d7ff\">None</span>)                │               <span style=\"color: #00af00; text-decoration-color: #00af00\">0</span> │\n",
              "│ (<span style=\"color: #0087ff; text-decoration-color: #0087ff\">TextVectorization</span>)                  │                             │                 │\n",
              "├──────────────────────────────────────┼─────────────────────────────┼─────────────────┤\n",
              "│ embedding_16 (<span style=\"color: #0087ff; text-decoration-color: #0087ff\">Embedding</span>)             │ (<span style=\"color: #00d7ff; text-decoration-color: #00d7ff\">None</span>, <span style=\"color: #00d7ff; text-decoration-color: #00d7ff\">None</span>, <span style=\"color: #00af00; text-decoration-color: #00af00\">64</span>)            │         <span style=\"color: #00af00; text-decoration-color: #00af00\">320,000</span> │\n",
              "├──────────────────────────────────────┼─────────────────────────────┼─────────────────┤\n",
              "│ bidirectional_12 (<span style=\"color: #0087ff; text-decoration-color: #0087ff\">Bidirectional</span>)     │ (<span style=\"color: #00d7ff; text-decoration-color: #00d7ff\">None</span>, <span style=\"color: #00d7ff; text-decoration-color: #00d7ff\">None</span>, <span style=\"color: #00af00; text-decoration-color: #00af00\">128</span>)           │          <span style=\"color: #00af00; text-decoration-color: #00af00\">66,048</span> │\n",
              "├──────────────────────────────────────┼─────────────────────────────┼─────────────────┤\n",
              "│ bidirectional_13 (<span style=\"color: #0087ff; text-decoration-color: #0087ff\">Bidirectional</span>)     │ (<span style=\"color: #00d7ff; text-decoration-color: #00d7ff\">None</span>, <span style=\"color: #00af00; text-decoration-color: #00af00\">64</span>)                  │          <span style=\"color: #00af00; text-decoration-color: #00af00\">41,216</span> │\n",
              "├──────────────────────────────────────┼─────────────────────────────┼─────────────────┤\n",
              "│ dense_32 (<span style=\"color: #0087ff; text-decoration-color: #0087ff\">Dense</span>)                     │ (<span style=\"color: #00d7ff; text-decoration-color: #00d7ff\">None</span>, <span style=\"color: #00af00; text-decoration-color: #00af00\">64</span>)                  │           <span style=\"color: #00af00; text-decoration-color: #00af00\">4,160</span> │\n",
              "├──────────────────────────────────────┼─────────────────────────────┼─────────────────┤\n",
              "│ dense_33 (<span style=\"color: #0087ff; text-decoration-color: #0087ff\">Dense</span>)                     │ (<span style=\"color: #00d7ff; text-decoration-color: #00d7ff\">None</span>, <span style=\"color: #00af00; text-decoration-color: #00af00\">1</span>)                   │              <span style=\"color: #00af00; text-decoration-color: #00af00\">65</span> │\n",
              "└──────────────────────────────────────┴─────────────────────────────┴─────────────────┘\n",
              "</pre>\n"
            ]
          },
          "metadata": {}
        },
        {
          "output_type": "display_data",
          "data": {
            "text/plain": [
              "\u001b[1m Total params: \u001b[0m\u001b[38;5;34m431,489\u001b[0m (1.65 MB)\n"
            ],
            "text/html": [
              "<pre style=\"white-space:pre;overflow-x:auto;line-height:normal;font-family:Menlo,'DejaVu Sans Mono',consolas,'Courier New',monospace\"><span style=\"font-weight: bold\"> Total params: </span><span style=\"color: #00af00; text-decoration-color: #00af00\">431,489</span> (1.65 MB)\n",
              "</pre>\n"
            ]
          },
          "metadata": {}
        },
        {
          "output_type": "display_data",
          "data": {
            "text/plain": [
              "\u001b[1m Trainable params: \u001b[0m\u001b[38;5;34m431,489\u001b[0m (1.65 MB)\n"
            ],
            "text/html": [
              "<pre style=\"white-space:pre;overflow-x:auto;line-height:normal;font-family:Menlo,'DejaVu Sans Mono',consolas,'Courier New',monospace\"><span style=\"font-weight: bold\"> Trainable params: </span><span style=\"color: #00af00; text-decoration-color: #00af00\">431,489</span> (1.65 MB)\n",
              "</pre>\n"
            ]
          },
          "metadata": {}
        },
        {
          "output_type": "display_data",
          "data": {
            "text/plain": [
              "\u001b[1m Non-trainable params: \u001b[0m\u001b[38;5;34m0\u001b[0m (0.00 B)\n"
            ],
            "text/html": [
              "<pre style=\"white-space:pre;overflow-x:auto;line-height:normal;font-family:Menlo,'DejaVu Sans Mono',consolas,'Courier New',monospace\"><span style=\"font-weight: bold\"> Non-trainable params: </span><span style=\"color: #00af00; text-decoration-color: #00af00\">0</span> (0.00 B)\n",
              "</pre>\n"
            ]
          },
          "metadata": {}
        }
      ]
    },
    {
      "cell_type": "code",
      "source": [
        "# Training the model and validating it on test set\n",
        "history = model.fit(\n",
        "\ttrain_tf,\n",
        "\tepochs=5,\n",
        "\tvalidation_data=valid_tf,\n",
        ")"
      ],
      "metadata": {
        "colab": {
          "base_uri": "https://localhost:8080/"
        },
        "id": "GJnFePhr38-V",
        "outputId": "68ce95ee-1740-45e6-8d4e-bb4d48fc3a63"
      },
      "execution_count": null,
      "outputs": [
        {
          "output_type": "stream",
          "name": "stdout",
          "text": [
            "Epoch 1/5\n",
            "\u001b[1m96/96\u001b[0m \u001b[32m━━━━━━━━━━━━━━━━━━━━\u001b[0m\u001b[37m\u001b[0m \u001b[1m23s\u001b[0m 126ms/step - accuracy: 0.6336 - loss: 0.6239 - val_accuracy: 0.7669 - val_loss: 0.5034\n",
            "Epoch 2/5\n",
            "\u001b[1m96/96\u001b[0m \u001b[32m━━━━━━━━━━━━━━━━━━━━\u001b[0m\u001b[37m\u001b[0m \u001b[1m10s\u001b[0m 106ms/step - accuracy: 0.8485 - loss: 0.3699 - val_accuracy: 0.7669 - val_loss: 0.5153\n",
            "Epoch 3/5\n",
            "\u001b[1m96/96\u001b[0m \u001b[32m━━━━━━━━━━━━━━━━━━━━\u001b[0m\u001b[37m\u001b[0m \u001b[1m12s\u001b[0m 123ms/step - accuracy: 0.8937 - loss: 0.2744 - val_accuracy: 0.7577 - val_loss: 0.6293\n",
            "Epoch 4/5\n",
            "\u001b[1m96/96\u001b[0m \u001b[32m━━━━━━━━━━━━━━━━━━━━\u001b[0m\u001b[37m\u001b[0m \u001b[1m12s\u001b[0m 120ms/step - accuracy: 0.9221 - loss: 0.2150 - val_accuracy: 0.7577 - val_loss: 0.7288\n",
            "Epoch 5/5\n",
            "\u001b[1m96/96\u001b[0m \u001b[32m━━━━━━━━━━━━━━━━━━━━\u001b[0m\u001b[37m\u001b[0m \u001b[1m11s\u001b[0m 115ms/step - accuracy: 0.9400 - loss: 0.1706 - val_accuracy: 0.7485 - val_loss: 0.6917\n"
          ]
        }
      ]
    },
    {
      "cell_type": "code",
      "source": [
        "plt.plot(history.history['accuracy'], label='accuracy')\n",
        "plt.plot(history.history['val_accuracy'], label = 'val_accuracy')\n",
        "plt.xlabel('Epoch')\n",
        "plt.ylabel('Accuracy')\n",
        "plt.ylim([0.5, 1])\n",
        "plt.legend(loc='lower right')"
      ],
      "metadata": {
        "colab": {
          "base_uri": "https://localhost:8080/",
          "height": 472
        },
        "id": "RUsQah0K6qMN",
        "outputId": "adc3fc84-8888-47ee-bce5-bdc08b7342dc"
      },
      "execution_count": null,
      "outputs": [
        {
          "output_type": "execute_result",
          "data": {
            "text/plain": [
              "<matplotlib.legend.Legend at 0x7ca01b565b90>"
            ]
          },
          "metadata": {},
          "execution_count": 48
        },
        {
          "output_type": "display_data",
          "data": {
            "text/plain": [
              "<Figure size 640x480 with 1 Axes>"
            ],
            "image/png": "[encoded data removed]"
          },
          "metadata": {}
        }
      ]
    },
    {
      "cell_type": "code",
      "source": [
        "test_pred = model.predict(test_tf)\n",
        "test_pred = test_pred.reshape(-1)\n",
        "test_pred.shape"
      ],
      "metadata": {
        "colab": {
          "base_uri": "https://localhost:8080/"
        },
        "id": "tREDyJd56rTE",
        "outputId": "a73d0526-07e6-41d1-a07f-dbbf8075cb87"
      },
      "execution_count": null,
      "outputs": [
        {
          "output_type": "stream",
          "name": "stdout",
          "text": [
            "\u001b[1m51/51\u001b[0m \u001b[32m━━━━━━━━━━━━━━━━━━━━\u001b[0m\u001b[37m\u001b[0m \u001b[1m4s\u001b[0m 63ms/step\n"
          ]
        },
        {
          "output_type": "execute_result",
          "data": {
            "text/plain": [
              "(3263,)"
            ]
          },
          "metadata": {},
          "execution_count": 44
        }
      ]
    },
    {
      "cell_type": "code",
      "source": [
        "test_pred"
      ],
      "metadata": {
        "colab": {
          "base_uri": "https://localhost:8080/"
        },
        "id": "x6sBdd0x8dHt",
        "outputId": "e83df285-b944-4cb6-95e3-0d9b3ff4b4eb"
      },
      "execution_count": null,
      "outputs": [
        {
          "output_type": "execute_result",
          "data": {
            "text/plain": [
              "array([0.56881297, 0.13576531, 0.994531  , ..., 0.97534287, 0.9398776 ,\n",
              "       0.9872991 ], dtype=float32)"
            ]
          },
          "metadata": {},
          "execution_count": 45
        }
      ]
    },
    {
      "cell_type": "code",
      "source": [
        "test_df['target'] = test_pred\n",
        "submit_df = test_df[['id', 'target']]\n",
        "submit_df = submit_df.round()\n",
        "submit_df.to_csv('/content/submission-initial.csv', index=False)"
      ],
      "metadata": {
        "id": "660Qx4y-7Eas"
      },
      "execution_count": null,
      "outputs": []
    },
    {
      "cell_type": "markdown",
      "source": [
        "### Simpler GRU Model with Dropout\n",
        "\n",
        "The first model I tried quickly overfit the data wo I'm adding in a dropout layer after the dense layer and also trying Gated Recurrent Units rather than LSTM units. GRU is a simpler architecture and is appropriate when the task doesn't require memory for long sequences. Given that we're working with tweets, that seems appropriate."
      ],
      "metadata": {
        "id": "5ZPr39YzjMqG"
      }
    },
    {
      "cell_type": "code",
      "source": [
        "# Creating the model\n",
        "model = tf.keras.Sequential([\n",
        "\ttf.keras.Input(shape=(1,), dtype=tf.string),\n",
        "  encoder,\n",
        "\ttf.keras.layers.Embedding(\n",
        "\t\tlen(encoder.get_vocabulary()), 64, mask_zero=True),\n",
        "\ttf.keras.layers.GRU(units=64, return_sequences=True),\n",
        "    tf.keras.layers.GRU(units=64),\n",
        "\ttf.keras.layers.Dense(64, activation='relu'),\n",
        "  tf.keras.layers.Dropout(0.35),\n",
        "\ttf.keras.layers.Dense(1, activation = 'sigmoid')\n",
        "])\n",
        "\n",
        "# Summary of the model\n",
        "model.summary()\n",
        "\n",
        "# Adding Early Stopping\n",
        "callback = EarlyStopping(monitor='val_accuracy',\n",
        "                         patience=0,\n",
        "    verbose=0,\n",
        "    mode='auto',\n",
        "    baseline=None,\n",
        "    restore_best_weights=True\n",
        ")\n",
        "\n",
        "# Compile the model\n",
        "model.compile(\n",
        "\tloss=tf.keras.losses.BinaryCrossentropy(),\n",
        "\toptimizer=tf.keras.optimizers.Adam(),\n",
        "\tmetrics=['accuracy']\n",
        ")"
      ],
      "metadata": {
        "colab": {
          "base_uri": "https://localhost:8080/",
          "height": 391
        },
        "id": "hEn2YTULBzOk",
        "outputId": "d59ced7e-7c04-455d-cd3f-f6a7aa28e437"
      },
      "execution_count": null,
      "outputs": [
        {
          "output_type": "display_data",
          "data": {
            "text/plain": [
              "\u001b[1mModel: \"sequential_14\"\u001b[0m\n"
            ],
            "text/html": [
              "<pre style=\"white-space:pre;overflow-x:auto;line-height:normal;font-family:Menlo,'DejaVu Sans Mono',consolas,'Courier New',monospace\"><span style=\"font-weight: bold\">Model: \"sequential_14\"</span>\n",
              "</pre>\n"
            ]
          },
          "metadata": {}
        },
        {
          "output_type": "display_data",
          "data": {
            "text/plain": [
              "┏━━━━━━━━━━━━━━━━━━━━━━━━━━━━━━━━━━━━━━┳━━━━━━━━━━━━━━━━━━━━━━━━━━━━━┳━━━━━━━━━━━━━━━━━┓\n",
              "┃\u001b[1m \u001b[0m\u001b[1mLayer (type)                        \u001b[0m\u001b[1m \u001b[0m┃\u001b[1m \u001b[0m\u001b[1mOutput Shape               \u001b[0m\u001b[1m \u001b[0m┃\u001b[1m \u001b[0m\u001b[1m        Param #\u001b[0m\u001b[1m \u001b[0m┃\n",
              "┡━━━━━━━━━━━━━━━━━━━━━━━━━━━━━━━━━━━━━━╇━━━━━━━━━━━━━━━━━━━━━━━━━━━━━╇━━━━━━━━━━━━━━━━━┩\n",
              "│ text_vectorization_3                 │ (\u001b[38;5;45mNone\u001b[0m, \u001b[38;5;45mNone\u001b[0m)                │               \u001b[38;5;34m0\u001b[0m │\n",
              "│ (\u001b[38;5;33mTextVectorization\u001b[0m)                  │                             │                 │\n",
              "├──────────────────────────────────────┼─────────────────────────────┼─────────────────┤\n",
              "│ embedding_14 (\u001b[38;5;33mEmbedding\u001b[0m)             │ (\u001b[38;5;45mNone\u001b[0m, \u001b[38;5;45mNone\u001b[0m, \u001b[38;5;34m64\u001b[0m)            │         \u001b[38;5;34m640,000\u001b[0m │\n",
              "├──────────────────────────────────────┼─────────────────────────────┼─────────────────┤\n",
              "│ gru_14 (\u001b[38;5;33mGRU\u001b[0m)                         │ (\u001b[38;5;45mNone\u001b[0m, \u001b[38;5;45mNone\u001b[0m, \u001b[38;5;34m64\u001b[0m)            │          \u001b[38;5;34m24,960\u001b[0m │\n",
              "├──────────────────────────────────────┼─────────────────────────────┼─────────────────┤\n",
              "│ gru_15 (\u001b[38;5;33mGRU\u001b[0m)                         │ (\u001b[38;5;45mNone\u001b[0m, \u001b[38;5;34m64\u001b[0m)                  │          \u001b[38;5;34m24,960\u001b[0m │\n",
              "├──────────────────────────────────────┼─────────────────────────────┼─────────────────┤\n",
              "│ dense_28 (\u001b[38;5;33mDense\u001b[0m)                     │ (\u001b[38;5;45mNone\u001b[0m, \u001b[38;5;34m64\u001b[0m)                  │           \u001b[38;5;34m4,160\u001b[0m │\n",
              "├──────────────────────────────────────┼─────────────────────────────┼─────────────────┤\n",
              "│ dropout_3 (\u001b[38;5;33mDropout\u001b[0m)                  │ (\u001b[38;5;45mNone\u001b[0m, \u001b[38;5;34m64\u001b[0m)                  │               \u001b[38;5;34m0\u001b[0m │\n",
              "├──────────────────────────────────────┼─────────────────────────────┼─────────────────┤\n",
              "│ dense_29 (\u001b[38;5;33mDense\u001b[0m)                     │ (\u001b[38;5;45mNone\u001b[0m, \u001b[38;5;34m1\u001b[0m)                   │              \u001b[38;5;34m65\u001b[0m │\n",
              "└──────────────────────────────────────┴─────────────────────────────┴─────────────────┘\n"
            ],
            "text/html": [
              "<pre style=\"white-space:pre;overflow-x:auto;line-height:normal;font-family:Menlo,'DejaVu Sans Mono',consolas,'Courier New',monospace\">┏━━━━━━━━━━━━━━━━━━━━━━━━━━━━━━━━━━━━━━┳━━━━━━━━━━━━━━━━━━━━━━━━━━━━━┳━━━━━━━━━━━━━━━━━┓\n",
              "┃<span style=\"font-weight: bold\"> Layer (type)                         </span>┃<span style=\"font-weight: bold\"> Output Shape                </span>┃<span style=\"font-weight: bold\">         Param # </span>┃\n",
              "┡━━━━━━━━━━━━━━━━━━━━━━━━━━━━━━━━━━━━━━╇━━━━━━━━━━━━━━━━━━━━━━━━━━━━━╇━━━━━━━━━━━━━━━━━┩\n",
              "│ text_vectorization_3                 │ (<span style=\"color: #00d7ff; text-decoration-color: #00d7ff\">None</span>, <span style=\"color: #00d7ff; text-decoration-color: #00d7ff\">None</span>)                │               <span style=\"color: #00af00; text-decoration-color: #00af00\">0</span> │\n",
              "│ (<span style=\"color: #0087ff; text-decoration-color: #0087ff\">TextVectorization</span>)                  │                             │                 │\n",
              "├──────────────────────────────────────┼─────────────────────────────┼─────────────────┤\n",
              "│ embedding_14 (<span style=\"color: #0087ff; text-decoration-color: #0087ff\">Embedding</span>)             │ (<span style=\"color: #00d7ff; text-decoration-color: #00d7ff\">None</span>, <span style=\"color: #00d7ff; text-decoration-color: #00d7ff\">None</span>, <span style=\"color: #00af00; text-decoration-color: #00af00\">64</span>)            │         <span style=\"color: #00af00; text-decoration-color: #00af00\">640,000</span> │\n",
              "├──────────────────────────────────────┼─────────────────────────────┼─────────────────┤\n",
              "│ gru_14 (<span style=\"color: #0087ff; text-decoration-color: #0087ff\">GRU</span>)                         │ (<span style=\"color: #00d7ff; text-decoration-color: #00d7ff\">None</span>, <span style=\"color: #00d7ff; text-decoration-color: #00d7ff\">None</span>, <span style=\"color: #00af00; text-decoration-color: #00af00\">64</span>)            │          <span style=\"color: #00af00; text-decoration-color: #00af00\">24,960</span> │\n",
              "├──────────────────────────────────────┼─────────────────────────────┼─────────────────┤\n",
              "│ gru_15 (<span style=\"color: #0087ff; text-decoration-color: #0087ff\">GRU</span>)                         │ (<span style=\"color: #00d7ff; text-decoration-color: #00d7ff\">None</span>, <span style=\"color: #00af00; text-decoration-color: #00af00\">64</span>)                  │          <span style=\"color: #00af00; text-decoration-color: #00af00\">24,960</span> │\n",
              "├──────────────────────────────────────┼─────────────────────────────┼─────────────────┤\n",
              "│ dense_28 (<span style=\"color: #0087ff; text-decoration-color: #0087ff\">Dense</span>)                     │ (<span style=\"color: #00d7ff; text-decoration-color: #00d7ff\">None</span>, <span style=\"color: #00af00; text-decoration-color: #00af00\">64</span>)                  │           <span style=\"color: #00af00; text-decoration-color: #00af00\">4,160</span> │\n",
              "├──────────────────────────────────────┼─────────────────────────────┼─────────────────┤\n",
              "│ dropout_3 (<span style=\"color: #0087ff; text-decoration-color: #0087ff\">Dropout</span>)                  │ (<span style=\"color: #00d7ff; text-decoration-color: #00d7ff\">None</span>, <span style=\"color: #00af00; text-decoration-color: #00af00\">64</span>)                  │               <span style=\"color: #00af00; text-decoration-color: #00af00\">0</span> │\n",
              "├──────────────────────────────────────┼─────────────────────────────┼─────────────────┤\n",
              "│ dense_29 (<span style=\"color: #0087ff; text-decoration-color: #0087ff\">Dense</span>)                     │ (<span style=\"color: #00d7ff; text-decoration-color: #00d7ff\">None</span>, <span style=\"color: #00af00; text-decoration-color: #00af00\">1</span>)                   │              <span style=\"color: #00af00; text-decoration-color: #00af00\">65</span> │\n",
              "└──────────────────────────────────────┴─────────────────────────────┴─────────────────┘\n",
              "</pre>\n"
            ]
          },
          "metadata": {}
        },
        {
          "output_type": "display_data",
          "data": {
            "text/plain": [
              "\u001b[1m Total params: \u001b[0m\u001b[38;5;34m694,145\u001b[0m (2.65 MB)\n"
            ],
            "text/html": [
              "<pre style=\"white-space:pre;overflow-x:auto;line-height:normal;font-family:Menlo,'DejaVu Sans Mono',consolas,'Courier New',monospace\"><span style=\"font-weight: bold\"> Total params: </span><span style=\"color: #00af00; text-decoration-color: #00af00\">694,145</span> (2.65 MB)\n",
              "</pre>\n"
            ]
          },
          "metadata": {}
        },
        {
          "output_type": "display_data",
          "data": {
            "text/plain": [
              "\u001b[1m Trainable params: \u001b[0m\u001b[38;5;34m694,145\u001b[0m (2.65 MB)\n"
            ],
            "text/html": [
              "<pre style=\"white-space:pre;overflow-x:auto;line-height:normal;font-family:Menlo,'DejaVu Sans Mono',consolas,'Courier New',monospace\"><span style=\"font-weight: bold\"> Trainable params: </span><span style=\"color: #00af00; text-decoration-color: #00af00\">694,145</span> (2.65 MB)\n",
              "</pre>\n"
            ]
          },
          "metadata": {}
        },
        {
          "output_type": "display_data",
          "data": {
            "text/plain": [
              "\u001b[1m Non-trainable params: \u001b[0m\u001b[38;5;34m0\u001b[0m (0.00 B)\n"
            ],
            "text/html": [
              "<pre style=\"white-space:pre;overflow-x:auto;line-height:normal;font-family:Menlo,'DejaVu Sans Mono',consolas,'Courier New',monospace\"><span style=\"font-weight: bold\"> Non-trainable params: </span><span style=\"color: #00af00; text-decoration-color: #00af00\">0</span> (0.00 B)\n",
              "</pre>\n"
            ]
          },
          "metadata": {}
        }
      ]
    },
    {
      "cell_type": "code",
      "source": [
        "# Training the model and validating it on test set\n",
        "history = model.fit(\n",
        "\ttrain_tf,\n",
        "\tepochs=5,\n",
        "\tvalidation_data=valid_tf,\n",
        "  callbacks=[callback]\n",
        ")"
      ],
      "metadata": {
        "colab": {
          "base_uri": "https://localhost:8080/"
        },
        "id": "Q4I3TckaCy_l",
        "outputId": "283084fc-8635-45f4-d307-2d0e5e799a78"
      },
      "execution_count": null,
      "outputs": [
        {
          "output_type": "stream",
          "name": "stdout",
          "text": [
            "Epoch 1/5\n",
            "\u001b[1m96/96\u001b[0m \u001b[32m━━━━━━━━━━━━━━━━━━━━\u001b[0m\u001b[37m\u001b[0m \u001b[1m15s\u001b[0m 93ms/step - accuracy: 0.6109 - loss: 0.6494 - val_accuracy: 0.7807 - val_loss: 0.4831\n",
            "Epoch 2/5\n",
            "\u001b[1m96/96\u001b[0m \u001b[32m━━━━━━━━━━━━━━━━━━━━\u001b[0m\u001b[37m\u001b[0m \u001b[1m7s\u001b[0m 70ms/step - accuracy: 0.8496 - loss: 0.3718 - val_accuracy: 0.7708 - val_loss: 0.5240\n"
          ]
        }
      ]
    },
    {
      "cell_type": "code",
      "source": [
        "plt.plot(history.history['accuracy'], label='accuracy')\n",
        "plt.plot(history.history['val_accuracy'], label = 'val_accuracy')\n",
        "plt.xlabel('Epoch')\n",
        "plt.ylabel('Accuracy')\n",
        "plt.ylim([0.5, 1])\n",
        "plt.legend(loc='lower right')"
      ],
      "metadata": {
        "colab": {
          "base_uri": "https://localhost:8080/",
          "height": 472
        },
        "id": "UCGikXjJC8Y7",
        "outputId": "f235e828-9cf5-47a8-c54d-07d952f9ebd2"
      },
      "execution_count": null,
      "outputs": [
        {
          "output_type": "execute_result",
          "data": {
            "text/plain": [
              "<matplotlib.legend.Legend at 0x7ca01b2d7c50>"
            ]
          },
          "metadata": {},
          "execution_count": 68
        },
        {
          "output_type": "display_data",
          "data": {
            "text/plain": [
              "<Figure size 640x480 with 1 Axes>"
            ],
            "image/png": "[encoded data removed]"
          },
          "metadata": {}
        }
      ]
    },
    {
      "cell_type": "code",
      "source": [
        "test_pred = model.predict(test_tf)\n",
        "test_pred = test_pred.reshape(-1)\n",
        "test_pred.shape"
      ],
      "metadata": {
        "colab": {
          "base_uri": "https://localhost:8080/"
        },
        "id": "awpI_cgXDdk8",
        "outputId": "a2a4a4e8-8d37-4073-8a7f-30c529f913fe"
      },
      "execution_count": null,
      "outputs": [
        {
          "output_type": "stream",
          "name": "stdout",
          "text": [
            "\u001b[1m51/51\u001b[0m \u001b[32m━━━━━━━━━━━━━━━━━━━━\u001b[0m\u001b[37m\u001b[0m \u001b[1m3s\u001b[0m 41ms/step\n"
          ]
        },
        {
          "output_type": "execute_result",
          "data": {
            "text/plain": [
              "(3263,)"
            ]
          },
          "metadata": {},
          "execution_count": 69
        }
      ]
    },
    {
      "cell_type": "code",
      "source": [
        "test_df['target'] = test_pred\n",
        "submit_df = test_df[['id', 'target']]\n",
        "submit_df = submit_df.round()\n",
        "submit_df.to_csv('/content/submission-gru-early.csv', index=False)"
      ],
      "metadata": {
        "id": "EuinXlQ3Dj88"
      },
      "execution_count": null,
      "outputs": []
    },
    {
      "cell_type": "markdown",
      "source": [
        "I added early stopping in anticipation of some overfitting and that was the case again. This model also didn't pass the scoring threshold."
      ],
      "metadata": {
        "id": "0Efa_enJkpmV"
      }
    },
    {
      "cell_type": "markdown",
      "source": [
        "# Adding Regularization and Dropout\n",
        "\n",
        "In an effort to reduce overfitting, I've added regularization to the dense layer and added dropout and recurrent dropout to the bidirectional layers."
      ],
      "metadata": {
        "id": "JOF-59C3EYzy"
      }
    },
    {
      "cell_type": "code",
      "source": [
        "model = tf.keras.Sequential([\n",
        "    tf.keras.Input(shape=(1,), dtype=tf.string),\n",
        "    encoder,\n",
        "    tf.keras.layers.Embedding(len(encoder.get_vocabulary()), 64, mask_zero=True),\n",
        "\n",
        "    tf.keras.layers.Bidirectional(\n",
        "        tf.keras.layers.LSTM(64, return_sequences=True, dropout=0.3, recurrent_dropout=0.2)),\n",
        "\n",
        "    tf.keras.layers.Bidirectional(\n",
        "        tf.keras.layers.LSTM(32, dropout=0.3, recurrent_dropout=0.2)),\n",
        "\n",
        "    tf.keras.layers.Dense(64, activation='relu',\n",
        "                          kernel_regularizer=tf.keras.regularizers.l2(0.01)),\n",
        "\n",
        "    tf.keras.layers.Dropout(0.4),\n",
        "    tf.keras.layers.Dense(1, activation='sigmoid')\n",
        "])\n",
        "\n",
        "\n",
        "\n",
        "# Summary of the model\n",
        "model.summary()\n",
        "\n",
        "# Compile the model\n",
        "model.compile(\n",
        "\tloss=tf.keras.losses.BinaryCrossentropy(),\n",
        "\toptimizer=tf.keras.optimizers.Adam(),\n",
        "\tmetrics=['accuracy']\n",
        ")"
      ],
      "metadata": {
        "colab": {
          "base_uri": "https://localhost:8080/",
          "height": 391
        },
        "id": "SkZt-a8HEb-r",
        "outputId": "e2553f47-2fe4-4d94-fd8d-55076bcc7304"
      },
      "execution_count": null,
      "outputs": [
        {
          "output_type": "display_data",
          "data": {
            "text/plain": [
              "\u001b[1mModel: \"sequential_1\"\u001b[0m\n"
            ],
            "text/html": [
              "<pre style=\"white-space:pre;overflow-x:auto;line-height:normal;font-family:Menlo,'DejaVu Sans Mono',consolas,'Courier New',monospace\"><span style=\"font-weight: bold\">Model: \"sequential_1\"</span>\n",
              "</pre>\n"
            ]
          },
          "metadata": {}
        },
        {
          "output_type": "display_data",
          "data": {
            "text/plain": [
              "┏━━━━━━━━━━━━━━━━━━━━━━━━━━━━━━━━━┳━━━━━━━━━━━━━━━━━━━━━━━━┳━━━━━━━━━━━━━━━┓\n",
              "┃\u001b[1m \u001b[0m\u001b[1mLayer (type)                   \u001b[0m\u001b[1m \u001b[0m┃\u001b[1m \u001b[0m\u001b[1mOutput Shape          \u001b[0m\u001b[1m \u001b[0m┃\u001b[1m \u001b[0m\u001b[1m      Param #\u001b[0m\u001b[1m \u001b[0m┃\n",
              "┡━━━━━━━━━━━━━━━━━━━━━━━━━━━━━━━━━╇━━━━━━━━━━━━━━━━━━━━━━━━╇━━━━━━━━━━━━━━━┩\n",
              "│ text_vectorization              │ (\u001b[38;5;45mNone\u001b[0m, \u001b[38;5;45mNone\u001b[0m)           │             \u001b[38;5;34m0\u001b[0m │\n",
              "│ (\u001b[38;5;33mTextVectorization\u001b[0m)             │                        │               │\n",
              "├─────────────────────────────────┼────────────────────────┼───────────────┤\n",
              "│ embedding_1 (\u001b[38;5;33mEmbedding\u001b[0m)         │ (\u001b[38;5;45mNone\u001b[0m, \u001b[38;5;45mNone\u001b[0m, \u001b[38;5;34m64\u001b[0m)       │       \u001b[38;5;34m640,000\u001b[0m │\n",
              "├─────────────────────────────────┼────────────────────────┼───────────────┤\n",
              "│ bidirectional (\u001b[38;5;33mBidirectional\u001b[0m)   │ (\u001b[38;5;45mNone\u001b[0m, \u001b[38;5;45mNone\u001b[0m, \u001b[38;5;34m128\u001b[0m)      │        \u001b[38;5;34m66,048\u001b[0m │\n",
              "├─────────────────────────────────┼────────────────────────┼───────────────┤\n",
              "│ bidirectional_1 (\u001b[38;5;33mBidirectional\u001b[0m) │ (\u001b[38;5;45mNone\u001b[0m, \u001b[38;5;34m64\u001b[0m)             │        \u001b[38;5;34m41,216\u001b[0m │\n",
              "├─────────────────────────────────┼────────────────────────┼───────────────┤\n",
              "│ dense_2 (\u001b[38;5;33mDense\u001b[0m)                 │ (\u001b[38;5;45mNone\u001b[0m, \u001b[38;5;34m64\u001b[0m)             │         \u001b[38;5;34m4,160\u001b[0m │\n",
              "├─────────────────────────────────┼────────────────────────┼───────────────┤\n",
              "│ dropout_1 (\u001b[38;5;33mDropout\u001b[0m)             │ (\u001b[38;5;45mNone\u001b[0m, \u001b[38;5;34m64\u001b[0m)             │             \u001b[38;5;34m0\u001b[0m │\n",
              "├─────────────────────────────────┼────────────────────────┼───────────────┤\n",
              "│ dense_3 (\u001b[38;5;33mDense\u001b[0m)                 │ (\u001b[38;5;45mNone\u001b[0m, \u001b[38;5;34m1\u001b[0m)              │            \u001b[38;5;34m65\u001b[0m │\n",
              "└─────────────────────────────────┴────────────────────────┴───────────────┘\n"
            ],
            "text/html": [
              "<pre style=\"white-space:pre;overflow-x:auto;line-height:normal;font-family:Menlo,'DejaVu Sans Mono',consolas,'Courier New',monospace\">┏━━━━━━━━━━━━━━━━━━━━━━━━━━━━━━━━━┳━━━━━━━━━━━━━━━━━━━━━━━━┳━━━━━━━━━━━━━━━┓\n",
              "┃<span style=\"font-weight: bold\"> Layer (type)                    </span>┃<span style=\"font-weight: bold\"> Output Shape           </span>┃<span style=\"font-weight: bold\">       Param # </span>┃\n",
              "┡━━━━━━━━━━━━━━━━━━━━━━━━━━━━━━━━━╇━━━━━━━━━━━━━━━━━━━━━━━━╇━━━━━━━━━━━━━━━┩\n",
              "│ text_vectorization              │ (<span style=\"color: #00d7ff; text-decoration-color: #00d7ff\">None</span>, <span style=\"color: #00d7ff; text-decoration-color: #00d7ff\">None</span>)           │             <span style=\"color: #00af00; text-decoration-color: #00af00\">0</span> │\n",
              "│ (<span style=\"color: #0087ff; text-decoration-color: #0087ff\">TextVectorization</span>)             │                        │               │\n",
              "├─────────────────────────────────┼────────────────────────┼───────────────┤\n",
              "│ embedding_1 (<span style=\"color: #0087ff; text-decoration-color: #0087ff\">Embedding</span>)         │ (<span style=\"color: #00d7ff; text-decoration-color: #00d7ff\">None</span>, <span style=\"color: #00d7ff; text-decoration-color: #00d7ff\">None</span>, <span style=\"color: #00af00; text-decoration-color: #00af00\">64</span>)       │       <span style=\"color: #00af00; text-decoration-color: #00af00\">640,000</span> │\n",
              "├─────────────────────────────────┼────────────────────────┼───────────────┤\n",
              "│ bidirectional (<span style=\"color: #0087ff; text-decoration-color: #0087ff\">Bidirectional</span>)   │ (<span style=\"color: #00d7ff; text-decoration-color: #00d7ff\">None</span>, <span style=\"color: #00d7ff; text-decoration-color: #00d7ff\">None</span>, <span style=\"color: #00af00; text-decoration-color: #00af00\">128</span>)      │        <span style=\"color: #00af00; text-decoration-color: #00af00\">66,048</span> │\n",
              "├─────────────────────────────────┼────────────────────────┼───────────────┤\n",
              "│ bidirectional_1 (<span style=\"color: #0087ff; text-decoration-color: #0087ff\">Bidirectional</span>) │ (<span style=\"color: #00d7ff; text-decoration-color: #00d7ff\">None</span>, <span style=\"color: #00af00; text-decoration-color: #00af00\">64</span>)             │        <span style=\"color: #00af00; text-decoration-color: #00af00\">41,216</span> │\n",
              "├─────────────────────────────────┼────────────────────────┼───────────────┤\n",
              "│ dense_2 (<span style=\"color: #0087ff; text-decoration-color: #0087ff\">Dense</span>)                 │ (<span style=\"color: #00d7ff; text-decoration-color: #00d7ff\">None</span>, <span style=\"color: #00af00; text-decoration-color: #00af00\">64</span>)             │         <span style=\"color: #00af00; text-decoration-color: #00af00\">4,160</span> │\n",
              "├─────────────────────────────────┼────────────────────────┼───────────────┤\n",
              "│ dropout_1 (<span style=\"color: #0087ff; text-decoration-color: #0087ff\">Dropout</span>)             │ (<span style=\"color: #00d7ff; text-decoration-color: #00d7ff\">None</span>, <span style=\"color: #00af00; text-decoration-color: #00af00\">64</span>)             │             <span style=\"color: #00af00; text-decoration-color: #00af00\">0</span> │\n",
              "├─────────────────────────────────┼────────────────────────┼───────────────┤\n",
              "│ dense_3 (<span style=\"color: #0087ff; text-decoration-color: #0087ff\">Dense</span>)                 │ (<span style=\"color: #00d7ff; text-decoration-color: #00d7ff\">None</span>, <span style=\"color: #00af00; text-decoration-color: #00af00\">1</span>)              │            <span style=\"color: #00af00; text-decoration-color: #00af00\">65</span> │\n",
              "└─────────────────────────────────┴────────────────────────┴───────────────┘\n",
              "</pre>\n"
            ]
          },
          "metadata": {}
        },
        {
          "output_type": "display_data",
          "data": {
            "text/plain": [
              "\u001b[1m Total params: \u001b[0m\u001b[38;5;34m751,489\u001b[0m (2.87 MB)\n"
            ],
            "text/html": [
              "<pre style=\"white-space:pre;overflow-x:auto;line-height:normal;font-family:Menlo,'DejaVu Sans Mono',consolas,'Courier New',monospace\"><span style=\"font-weight: bold\"> Total params: </span><span style=\"color: #00af00; text-decoration-color: #00af00\">751,489</span> (2.87 MB)\n",
              "</pre>\n"
            ]
          },
          "metadata": {}
        },
        {
          "output_type": "display_data",
          "data": {
            "text/plain": [
              "\u001b[1m Trainable params: \u001b[0m\u001b[38;5;34m751,489\u001b[0m (2.87 MB)\n"
            ],
            "text/html": [
              "<pre style=\"white-space:pre;overflow-x:auto;line-height:normal;font-family:Menlo,'DejaVu Sans Mono',consolas,'Courier New',monospace\"><span style=\"font-weight: bold\"> Trainable params: </span><span style=\"color: #00af00; text-decoration-color: #00af00\">751,489</span> (2.87 MB)\n",
              "</pre>\n"
            ]
          },
          "metadata": {}
        },
        {
          "output_type": "display_data",
          "data": {
            "text/plain": [
              "\u001b[1m Non-trainable params: \u001b[0m\u001b[38;5;34m0\u001b[0m (0.00 B)\n"
            ],
            "text/html": [
              "<pre style=\"white-space:pre;overflow-x:auto;line-height:normal;font-family:Menlo,'DejaVu Sans Mono',consolas,'Courier New',monospace\"><span style=\"font-weight: bold\"> Non-trainable params: </span><span style=\"color: #00af00; text-decoration-color: #00af00\">0</span> (0.00 B)\n",
              "</pre>\n"
            ]
          },
          "metadata": {}
        }
      ]
    },
    {
      "cell_type": "code",
      "source": [
        "history = model.fit(\n",
        "\ttrain_tf,\n",
        "\tepochs=10,\n",
        "\tvalidation_data=valid_tf,\n",
        ")"
      ],
      "metadata": {
        "colab": {
          "base_uri": "https://localhost:8080/"
        },
        "id": "0Faq6f6vHMxk",
        "outputId": "980b6c41-8382-4927-c798-bdf8e266788a"
      },
      "execution_count": null,
      "outputs": [
        {
          "output_type": "stream",
          "name": "stdout",
          "text": [
            "Epoch 1/10\n",
            "\u001b[1m96/96\u001b[0m \u001b[32m━━━━━━━━━━━━━━━━━━━━\u001b[0m\u001b[37m\u001b[0m \u001b[1m40s\u001b[0m 260ms/step - accuracy: 0.5985 - loss: 1.1418 - val_accuracy: 0.7827 - val_loss: 0.6673\n",
            "Epoch 2/10\n",
            "\u001b[1m96/96\u001b[0m \u001b[32m━━━━━━━━━━━━━━━━━━━━\u001b[0m\u001b[37m\u001b[0m \u001b[1m23s\u001b[0m 235ms/step - accuracy: 0.8387 - loss: 0.5431 - val_accuracy: 0.7827 - val_loss: 0.5818\n",
            "Epoch 3/10\n",
            "\u001b[1m96/96\u001b[0m \u001b[32m━━━━━━━━━━━━━━━━━━━━\u001b[0m\u001b[37m\u001b[0m \u001b[1m22s\u001b[0m 229ms/step - accuracy: 0.9049 - loss: 0.3054 - val_accuracy: 0.7735 - val_loss: 0.6175\n",
            "Epoch 4/10\n",
            "\u001b[1m96/96\u001b[0m \u001b[32m━━━━━━━━━━━━━━━━━━━━\u001b[0m\u001b[37m\u001b[0m \u001b[1m22s\u001b[0m 229ms/step - accuracy: 0.9381 - loss: 0.2058 - val_accuracy: 0.7676 - val_loss: 0.7005\n",
            "Epoch 5/10\n",
            "\u001b[1m96/96\u001b[0m \u001b[32m━━━━━━━━━━━━━━━━━━━━\u001b[0m\u001b[37m\u001b[0m \u001b[1m22s\u001b[0m 231ms/step - accuracy: 0.9511 - loss: 0.1688 - val_accuracy: 0.7538 - val_loss: 0.7056\n",
            "Epoch 6/10\n",
            "\u001b[1m96/96\u001b[0m \u001b[32m━━━━━━━━━━━━━━━━━━━━\u001b[0m\u001b[37m\u001b[0m \u001b[1m23s\u001b[0m 239ms/step - accuracy: 0.9627 - loss: 0.1297 - val_accuracy: 0.7590 - val_loss: 0.7524\n",
            "Epoch 7/10\n",
            "\u001b[1m96/96\u001b[0m \u001b[32m━━━━━━━━━━━━━━━━━━━━\u001b[0m\u001b[37m\u001b[0m \u001b[1m22s\u001b[0m 234ms/step - accuracy: 0.9688 - loss: 0.1097 - val_accuracy: 0.7551 - val_loss: 0.8599\n",
            "Epoch 8/10\n",
            "\u001b[1m96/96\u001b[0m \u001b[32m━━━━━━━━━━━━━━━━━━━━\u001b[0m\u001b[37m\u001b[0m \u001b[1m23s\u001b[0m 234ms/step - accuracy: 0.9760 - loss: 0.0865 - val_accuracy: 0.7498 - val_loss: 0.8943\n",
            "Epoch 9/10\n",
            "\u001b[1m96/96\u001b[0m \u001b[32m━━━━━━━━━━━━━━━━━━━━\u001b[0m\u001b[37m\u001b[0m \u001b[1m22s\u001b[0m 229ms/step - accuracy: 0.9766 - loss: 0.0843 - val_accuracy: 0.7603 - val_loss: 0.9213\n",
            "Epoch 10/10\n",
            "\u001b[1m96/96\u001b[0m \u001b[32m━━━━━━━━━━━━━━━━━━━━\u001b[0m\u001b[37m\u001b[0m \u001b[1m22s\u001b[0m 227ms/step - accuracy: 0.9764 - loss: 0.0751 - val_accuracy: 0.7617 - val_loss: 0.9525\n"
          ]
        }
      ]
    },
    {
      "cell_type": "code",
      "source": [
        "plt.plot(history.history['accuracy'], label='accuracy')\n",
        "plt.plot(history.history['val_accuracy'], label = 'val_accuracy')\n",
        "plt.xlabel('Epoch')\n",
        "plt.ylabel('Accuracy')\n",
        "plt.ylim([0.5, 1])\n",
        "plt.legend(loc='lower right')"
      ],
      "metadata": {
        "colab": {
          "base_uri": "https://localhost:8080/",
          "height": 472
        },
        "id": "S4dSGQOtf8am",
        "outputId": "27369584-a8fa-4277-a95a-cdd638c9a606"
      },
      "execution_count": null,
      "outputs": [
        {
          "output_type": "execute_result",
          "data": {
            "text/plain": [
              "<matplotlib.legend.Legend at 0x7aab5d39f2d0>"
            ]
          },
          "metadata": {},
          "execution_count": 15
        },
        {
          "output_type": "display_data",
          "data": {
            "text/plain": [
              "<Figure size 640x480 with 1 Axes>"
            ],
            "image/png": "[encoded data removed]"
          },
          "metadata": {}
        }
      ]
    },
    {
      "cell_type": "code",
      "source": [
        "test_pred = model.predict(test_tf)\n",
        "test_pred = test_pred.reshape(-1)\n",
        "test_pred.shape"
      ],
      "metadata": {
        "colab": {
          "base_uri": "https://localhost:8080/"
        },
        "id": "RA3imlk9hjGN",
        "outputId": "490d51ea-9625-467e-a82d-7725ad1e143d"
      },
      "execution_count": null,
      "outputs": [
        {
          "output_type": "stream",
          "name": "stdout",
          "text": [
            "\u001b[1m51/51\u001b[0m \u001b[32m━━━━━━━━━━━━━━━━━━━━\u001b[0m\u001b[37m\u001b[0m \u001b[1m6s\u001b[0m 83ms/step\n"
          ]
        },
        {
          "output_type": "execute_result",
          "data": {
            "text/plain": [
              "(3263,)"
            ]
          },
          "metadata": {},
          "execution_count": 16
        }
      ]
    },
    {
      "cell_type": "code",
      "source": [
        "test_df['target'] = test_pred\n",
        "submit_df = test_df[['id', 'target']]\n",
        "submit_df = submit_df.round()\n",
        "submit_df.to_csv('/content/submission-reg-dropout.csv', index=False)"
      ],
      "metadata": {
        "id": "ToW4oq5ahn9m"
      },
      "execution_count": null,
      "outputs": []
    },
    {
      "cell_type": "markdown",
      "source": [
        "### Regularization and Dropout with Early Stopping"
      ],
      "metadata": {
        "id": "CWZwhEKlf_Ov"
      }
    },
    {
      "cell_type": "code",
      "source": [
        "model = tf.keras.Sequential([\n",
        "    tf.keras.Input(shape=(1,), dtype=tf.string),\n",
        "    encoder,\n",
        "    tf.keras.layers.Embedding(len(encoder.get_vocabulary()), 64, mask_zero=True),\n",
        "\n",
        "    tf.keras.layers.Bidirectional(\n",
        "        tf.keras.layers.LSTM(64, return_sequences=True, dropout=0.3, recurrent_dropout=0.2)),\n",
        "\n",
        "    tf.keras.layers.Bidirectional(\n",
        "        tf.keras.layers.LSTM(32, dropout=0.3, recurrent_dropout=0.2)),\n",
        "\n",
        "    tf.keras.layers.Dense(64, activation='relu',\n",
        "                          kernel_regularizer=tf.keras.regularizers.l2(0.01)),\n",
        "\n",
        "    tf.keras.layers.Dropout(0.4),\n",
        "    tf.keras.layers.Dense(1, activation='sigmoid')\n",
        "])\n",
        "\n",
        "# Summary of the model\n",
        "model.summary()\n",
        "\n",
        "# Adding Early Stopping\n",
        "callback = EarlyStopping(monitor='val_accuracy',\n",
        "                         patience=0,\n",
        "    verbose=0,\n",
        "    mode='auto',\n",
        "    baseline=None,\n",
        "    restore_best_weights=True\n",
        ")\n",
        "\n",
        "# Compile the model\n",
        "model.compile(\n",
        "\tloss=tf.keras.losses.BinaryCrossentropy(),\n",
        "\toptimizer=tf.keras.optimizers.Adam(),\n",
        "\tmetrics=['accuracy']\n",
        ")"
      ],
      "metadata": {
        "colab": {
          "base_uri": "https://localhost:8080/",
          "height": 391
        },
        "id": "e_yzz8FvgMFg",
        "outputId": "58a19396-6272-4790-fd1e-7fedd770dc22"
      },
      "execution_count": null,
      "outputs": [
        {
          "output_type": "display_data",
          "data": {
            "text/plain": [
              "\u001b[1mModel: \"sequential_2\"\u001b[0m\n"
            ],
            "text/html": [
              "<pre style=\"white-space:pre;overflow-x:auto;line-height:normal;font-family:Menlo,'DejaVu Sans Mono',consolas,'Courier New',monospace\"><span style=\"font-weight: bold\">Model: \"sequential_2\"</span>\n",
              "</pre>\n"
            ]
          },
          "metadata": {}
        },
        {
          "output_type": "display_data",
          "data": {
            "text/plain": [
              "┏━━━━━━━━━━━━━━━━━━━━━━━━━━━━━━━━━┳━━━━━━━━━━━━━━━━━━━━━━━━┳━━━━━━━━━━━━━━━┓\n",
              "┃\u001b[1m \u001b[0m\u001b[1mLayer (type)                   \u001b[0m\u001b[1m \u001b[0m┃\u001b[1m \u001b[0m\u001b[1mOutput Shape          \u001b[0m\u001b[1m \u001b[0m┃\u001b[1m \u001b[0m\u001b[1m      Param #\u001b[0m\u001b[1m \u001b[0m┃\n",
              "┡━━━━━━━━━━━━━━━━━━━━━━━━━━━━━━━━━╇━━━━━━━━━━━━━━━━━━━━━━━━╇━━━━━━━━━━━━━━━┩\n",
              "│ text_vectorization              │ (\u001b[38;5;45mNone\u001b[0m, \u001b[38;5;45mNone\u001b[0m)           │             \u001b[38;5;34m0\u001b[0m │\n",
              "│ (\u001b[38;5;33mTextVectorization\u001b[0m)             │                        │               │\n",
              "├─────────────────────────────────┼────────────────────────┼───────────────┤\n",
              "│ embedding_2 (\u001b[38;5;33mEmbedding\u001b[0m)         │ (\u001b[38;5;45mNone\u001b[0m, \u001b[38;5;45mNone\u001b[0m, \u001b[38;5;34m64\u001b[0m)       │       \u001b[38;5;34m640,000\u001b[0m │\n",
              "├─────────────────────────────────┼────────────────────────┼───────────────┤\n",
              "│ bidirectional_2 (\u001b[38;5;33mBidirectional\u001b[0m) │ (\u001b[38;5;45mNone\u001b[0m, \u001b[38;5;45mNone\u001b[0m, \u001b[38;5;34m128\u001b[0m)      │        \u001b[38;5;34m66,048\u001b[0m │\n",
              "├─────────────────────────────────┼────────────────────────┼───────────────┤\n",
              "│ bidirectional_3 (\u001b[38;5;33mBidirectional\u001b[0m) │ (\u001b[38;5;45mNone\u001b[0m, \u001b[38;5;34m64\u001b[0m)             │        \u001b[38;5;34m41,216\u001b[0m │\n",
              "├─────────────────────────────────┼────────────────────────┼───────────────┤\n",
              "│ dense_4 (\u001b[38;5;33mDense\u001b[0m)                 │ (\u001b[38;5;45mNone\u001b[0m, \u001b[38;5;34m64\u001b[0m)             │         \u001b[38;5;34m4,160\u001b[0m │\n",
              "├─────────────────────────────────┼────────────────────────┼───────────────┤\n",
              "│ dropout_2 (\u001b[38;5;33mDropout\u001b[0m)             │ (\u001b[38;5;45mNone\u001b[0m, \u001b[38;5;34m64\u001b[0m)             │             \u001b[38;5;34m0\u001b[0m │\n",
              "├─────────────────────────────────┼────────────────────────┼───────────────┤\n",
              "│ dense_5 (\u001b[38;5;33mDense\u001b[0m)                 │ (\u001b[38;5;45mNone\u001b[0m, \u001b[38;5;34m1\u001b[0m)              │            \u001b[38;5;34m65\u001b[0m │\n",
              "└─────────────────────────────────┴────────────────────────┴───────────────┘\n"
            ],
            "text/html": [
              "<pre style=\"white-space:pre;overflow-x:auto;line-height:normal;font-family:Menlo,'DejaVu Sans Mono',consolas,'Courier New',monospace\">┏━━━━━━━━━━━━━━━━━━━━━━━━━━━━━━━━━┳━━━━━━━━━━━━━━━━━━━━━━━━┳━━━━━━━━━━━━━━━┓\n",
              "┃<span style=\"font-weight: bold\"> Layer (type)                    </span>┃<span style=\"font-weight: bold\"> Output Shape           </span>┃<span style=\"font-weight: bold\">       Param # </span>┃\n",
              "┡━━━━━━━━━━━━━━━━━━━━━━━━━━━━━━━━━╇━━━━━━━━━━━━━━━━━━━━━━━━╇━━━━━━━━━━━━━━━┩\n",
              "│ text_vectorization              │ (<span style=\"color: #00d7ff; text-decoration-color: #00d7ff\">None</span>, <span style=\"color: #00d7ff; text-decoration-color: #00d7ff\">None</span>)           │             <span style=\"color: #00af00; text-decoration-color: #00af00\">0</span> │\n",
              "│ (<span style=\"color: #0087ff; text-decoration-color: #0087ff\">TextVectorization</span>)             │                        │               │\n",
              "├─────────────────────────────────┼────────────────────────┼───────────────┤\n",
              "│ embedding_2 (<span style=\"color: #0087ff; text-decoration-color: #0087ff\">Embedding</span>)         │ (<span style=\"color: #00d7ff; text-decoration-color: #00d7ff\">None</span>, <span style=\"color: #00d7ff; text-decoration-color: #00d7ff\">None</span>, <span style=\"color: #00af00; text-decoration-color: #00af00\">64</span>)       │       <span style=\"color: #00af00; text-decoration-color: #00af00\">640,000</span> │\n",
              "├─────────────────────────────────┼────────────────────────┼───────────────┤\n",
              "│ bidirectional_2 (<span style=\"color: #0087ff; text-decoration-color: #0087ff\">Bidirectional</span>) │ (<span style=\"color: #00d7ff; text-decoration-color: #00d7ff\">None</span>, <span style=\"color: #00d7ff; text-decoration-color: #00d7ff\">None</span>, <span style=\"color: #00af00; text-decoration-color: #00af00\">128</span>)      │        <span style=\"color: #00af00; text-decoration-color: #00af00\">66,048</span> │\n",
              "├─────────────────────────────────┼────────────────────────┼───────────────┤\n",
              "│ bidirectional_3 (<span style=\"color: #0087ff; text-decoration-color: #0087ff\">Bidirectional</span>) │ (<span style=\"color: #00d7ff; text-decoration-color: #00d7ff\">None</span>, <span style=\"color: #00af00; text-decoration-color: #00af00\">64</span>)             │        <span style=\"color: #00af00; text-decoration-color: #00af00\">41,216</span> │\n",
              "├─────────────────────────────────┼────────────────────────┼───────────────┤\n",
              "│ dense_4 (<span style=\"color: #0087ff; text-decoration-color: #0087ff\">Dense</span>)                 │ (<span style=\"color: #00d7ff; text-decoration-color: #00d7ff\">None</span>, <span style=\"color: #00af00; text-decoration-color: #00af00\">64</span>)             │         <span style=\"color: #00af00; text-decoration-color: #00af00\">4,160</span> │\n",
              "├─────────────────────────────────┼────────────────────────┼───────────────┤\n",
              "│ dropout_2 (<span style=\"color: #0087ff; text-decoration-color: #0087ff\">Dropout</span>)             │ (<span style=\"color: #00d7ff; text-decoration-color: #00d7ff\">None</span>, <span style=\"color: #00af00; text-decoration-color: #00af00\">64</span>)             │             <span style=\"color: #00af00; text-decoration-color: #00af00\">0</span> │\n",
              "├─────────────────────────────────┼────────────────────────┼───────────────┤\n",
              "│ dense_5 (<span style=\"color: #0087ff; text-decoration-color: #0087ff\">Dense</span>)                 │ (<span style=\"color: #00d7ff; text-decoration-color: #00d7ff\">None</span>, <span style=\"color: #00af00; text-decoration-color: #00af00\">1</span>)              │            <span style=\"color: #00af00; text-decoration-color: #00af00\">65</span> │\n",
              "└─────────────────────────────────┴────────────────────────┴───────────────┘\n",
              "</pre>\n"
            ]
          },
          "metadata": {}
        },
        {
          "output_type": "display_data",
          "data": {
            "text/plain": [
              "\u001b[1m Total params: \u001b[0m\u001b[38;5;34m751,489\u001b[0m (2.87 MB)\n"
            ],
            "text/html": [
              "<pre style=\"white-space:pre;overflow-x:auto;line-height:normal;font-family:Menlo,'DejaVu Sans Mono',consolas,'Courier New',monospace\"><span style=\"font-weight: bold\"> Total params: </span><span style=\"color: #00af00; text-decoration-color: #00af00\">751,489</span> (2.87 MB)\n",
              "</pre>\n"
            ]
          },
          "metadata": {}
        },
        {
          "output_type": "display_data",
          "data": {
            "text/plain": [
              "\u001b[1m Trainable params: \u001b[0m\u001b[38;5;34m751,489\u001b[0m (2.87 MB)\n"
            ],
            "text/html": [
              "<pre style=\"white-space:pre;overflow-x:auto;line-height:normal;font-family:Menlo,'DejaVu Sans Mono',consolas,'Courier New',monospace\"><span style=\"font-weight: bold\"> Trainable params: </span><span style=\"color: #00af00; text-decoration-color: #00af00\">751,489</span> (2.87 MB)\n",
              "</pre>\n"
            ]
          },
          "metadata": {}
        },
        {
          "output_type": "display_data",
          "data": {
            "text/plain": [
              "\u001b[1m Non-trainable params: \u001b[0m\u001b[38;5;34m0\u001b[0m (0.00 B)\n"
            ],
            "text/html": [
              "<pre style=\"white-space:pre;overflow-x:auto;line-height:normal;font-family:Menlo,'DejaVu Sans Mono',consolas,'Courier New',monospace\"><span style=\"font-weight: bold\"> Non-trainable params: </span><span style=\"color: #00af00; text-decoration-color: #00af00\">0</span> (0.00 B)\n",
              "</pre>\n"
            ]
          },
          "metadata": {}
        }
      ]
    },
    {
      "cell_type": "code",
      "source": [
        "# Training the model and validating it on test set\n",
        "history = model.fit(\n",
        "\ttrain_tf,\n",
        "\tepochs=5,\n",
        "\tvalidation_data=valid_tf,\n",
        "  callbacks=[callback]\n",
        ")"
      ],
      "metadata": {
        "colab": {
          "base_uri": "https://localhost:8080/"
        },
        "id": "NjUZcGKngfJG",
        "outputId": "530bcf09-9d69-4cc4-99ca-706fac9408ed"
      },
      "execution_count": null,
      "outputs": [
        {
          "output_type": "stream",
          "name": "stdout",
          "text": [
            "Epoch 1/5\n",
            "\u001b[1m96/96\u001b[0m \u001b[32m━━━━━━━━━━━━━━━━━━━━\u001b[0m\u001b[37m\u001b[0m \u001b[1m39s\u001b[0m 255ms/step - accuracy: 0.6128 - loss: 1.1299 - val_accuracy: 0.7846 - val_loss: 0.6582\n",
            "Epoch 2/5\n",
            "\u001b[1m96/96\u001b[0m \u001b[32m━━━━━━━━━━━━━━━━━━━━\u001b[0m\u001b[37m\u001b[0m \u001b[1m23s\u001b[0m 238ms/step - accuracy: 0.8413 - loss: 0.5190 - val_accuracy: 0.7807 - val_loss: 0.5476\n"
          ]
        }
      ]
    },
    {
      "cell_type": "code",
      "source": [
        "plt.plot(history.history['accuracy'], label='accuracy')\n",
        "plt.plot(history.history['val_accuracy'], label = 'val_accuracy')\n",
        "plt.xlabel('Epoch')\n",
        "plt.ylabel('Accuracy')\n",
        "plt.ylim([0.5, 1])\n",
        "plt.legend(loc='lower right')"
      ],
      "metadata": {
        "colab": {
          "base_uri": "https://localhost:8080/",
          "height": 472
        },
        "id": "RY-C0Hyugnq2",
        "outputId": "664a11e4-2733-493a-d7ec-4128e0e43271"
      },
      "execution_count": null,
      "outputs": [
        {
          "output_type": "execute_result",
          "data": {
            "text/plain": [
              "<matplotlib.legend.Legend at 0x7aaca1968b90>"
            ]
          },
          "metadata": {},
          "execution_count": 20
        },
        {
          "output_type": "display_data",
          "data": {
            "text/plain": [
              "<Figure size 640x480 with 1 Axes>"
            ],
            "image/png": "[encoded data removed]"
          },
          "metadata": {}
        }
      ]
    },
    {
      "cell_type": "code",
      "source": [
        "test_pred = model.predict(test_tf)\n",
        "test_pred = test_pred.reshape(-1)\n",
        "test_pred.shape"
      ],
      "metadata": {
        "colab": {
          "base_uri": "https://localhost:8080/"
        },
        "id": "v09wgPODlTEQ",
        "outputId": "522961c3-2e3a-40db-9fa6-9b571c8a9ba2"
      },
      "execution_count": null,
      "outputs": [
        {
          "output_type": "stream",
          "name": "stdout",
          "text": [
            "\u001b[1m51/51\u001b[0m \u001b[32m━━━━━━━━━━━━━━━━━━━━\u001b[0m\u001b[37m\u001b[0m \u001b[1m6s\u001b[0m 85ms/step\n"
          ]
        },
        {
          "output_type": "execute_result",
          "data": {
            "text/plain": [
              "(3263,)"
            ]
          },
          "metadata": {},
          "execution_count": 21
        }
      ]
    },
    {
      "cell_type": "code",
      "source": [
        "test_df['target'] = test_pred\n",
        "submit_df = test_df[['id', 'target']]\n",
        "submit_df = submit_df.round()\n",
        "submit_df.to_csv('/content/submission-reg-dropout-early.csv', index=False)"
      ],
      "metadata": {
        "id": "kgAYbBoOlXj9"
      },
      "execution_count": null,
      "outputs": []
    },
    {
      "cell_type": "markdown",
      "source": [
        "# Pretrained Network Approach\n",
        "\n",
        "The various iterations of recurrent neural networks that I've created and trained have all failed to beat the scoring threshold for this task, unfortunately. Here, I go with a different approach and use a pretrained network for the task. Below, I bring the \"BertForSequenceClassification\" model into the environment and train it for just one epoch on this classification task."
      ],
      "metadata": {
        "id": "XpsuXUfEhlBt"
      }
    },
    {
      "cell_type": "code",
      "source": [
        "# Initialize tokenizer\n",
        "tokenizer = BertTokenizer.from_pretrained('bert-base-uncased')\n",
        "\n",
        "def tokenize_data(df, tokenizer):\n",
        "    return tokenizer(df['text'].tolist(), padding=True, truncation=True, max_length=128, return_tensors=\"pt\")\n",
        "\n",
        "# Encode the data\n",
        "train_encodings = tokenize_data(train_df, tokenizer)"
      ],
      "metadata": {
        "colab": {
          "base_uri": "https://localhost:8080/",
          "height": 249,
          "referenced_widgets": [
            "c193bd25822a47258ef06f21b6032bfb",
            "d8809cb95ab94bdeb83d1e1076681376",
            "ebee2d36260e48a198f4312206f6c4a2",
            "58ee403e44fb45439614a322eecc1894",
            "88250675dd2f4485891973ceac70f373",
            "f4d31566a2ea43e5af3581ab98247dfd",
            "dee60961505a44fda19a4cbbf3c8eb5e",
            "fe3076d20eab4b95b1da1ff83db021df",
            "32f1b102886b4e88b901d431167b64d4",
            "dbf251e2800940cc95462b2e574cb421",
            "979be7d505d54e9aa737640cecab02bb",
            "17a7214f6af04d3f82808da0629d547f",
            "72f6fe3f532f406f945c4b1b94c5a021",
            "6dbcab2e3f0b4f9c85943afad05cb811",
            "b6b84df2e9d34237bc8f0fe91c9a6f4f",
            "cea99e650db04a9bbc756a48f2332c3d",
            "48c6ac74088941d0bc971d763a1a3192",
            "430700fbff5d44909150a28176c56250",
            "25b7962b9b014504a24cac1cc2bf605c",
            "10b19e5dcd994d09b97062a1917fc7f1",
            "6b560f398f174145b01f83ab21008e2b",
            "1f19dd377fcb4921a6f0d739e94d42e6",
            "16639d677c4f4589bd2011938429efd8",
            "c25e9c50aa5440208beb3bb73867878a",
            "b8be61e754c6479e980afd2174ff17c0",
            "6d71790feb5b42fa9ab3742292312f1d",
            "08634381a86d4c8b9680718d738a0689",
            "479e4c70dde44564850797e2f44294bb",
            "7c03931f54334f0c8cf5cb9f59a990a6",
            "87ca57ef550c4c858e4e8101799c3b71",
            "b15280fbb30d4d7a9a3d96bfa5c9da81",
            "144c7eedcc474066bbc033a9d07bd9fa",
            "e9a59d0caaf54d32b3e8be681f7b414e",
            "2886d1cca87c4e64862ec5fe21f1c4fc",
            "9f7da1a6c18d4e0e8f3c5d10af9f3c69",
            "cc79ae0652e34920abda4397238cfef1",
            "52643658043f4611a1ffa274203901d4",
            "ad7312219aae49d6b0375eace6ccbdef",
            "5336bff3627640e480c671a44539b3e3",
            "d6f2752471044a27a65b57dd228b6c05",
            "af9bfec16a6747aeb71ddbd508fdb6b0",
            "e5935e8ccf214625927a2e4f246a47a1",
            "b6bf5c518f5942c48519a0075087e5ab",
            "6b7a44e6824a49ad8f1d306ebbdd9eb9"
          ]
        },
        "id": "_zA5HPLhhzOG",
        "outputId": "55788776-060d-4547-93e8-0f9cab74cd22"
      },
      "execution_count": null,
      "outputs": [
        {
          "output_type": "stream",
          "name": "stderr",
          "text": [
            "/usr/local/lib/python3.11/dist-packages/huggingface_hub/utils/_auth.py:94: UserWarning: \n",
            "The secret `HF_TOKEN` does not exist in your Colab secrets.\n",
            "To authenticate with the Hugging Face Hub, create a token in your settings tab (https://huggingface.co/settings/tokens), set it as secret in your Google Colab and restart your session.\n",
            "You will be able to reuse this secret in all of your notebooks.\n",
            "Please note that authentication is recommended but still optional to access public models or datasets.\n",
            "  warnings.warn(\n"
          ]
        },
        {
          "output_type": "display_data",
          "data": {
            "text/plain": [
              "tokenizer_config.json:   0%|          | 0.00/48.0 [00:00<?, ?B/s]"
            ],
            "application/vnd.jupyter.widget-view+json": {
              "version_major": 2,
              "version_minor": 0,
              "model_id": "c193bd25822a47258ef06f21b6032bfb"
            }
          },
          "metadata": {}
        },
        {
          "output_type": "display_data",
          "data": {
            "text/plain": [
              "vocab.txt:   0%|          | 0.00/232k [00:00<?, ?B/s]"
            ],
            "application/vnd.jupyter.widget-view+json": {
              "version_major": 2,
              "version_minor": 0,
              "model_id": "17a7214f6af04d3f82808da0629d547f"
            }
          },
          "metadata": {}
        },
        {
          "output_type": "display_data",
          "data": {
            "text/plain": [
              "tokenizer.json:   0%|          | 0.00/466k [00:00<?, ?B/s]"
            ],
            "application/vnd.jupyter.widget-view+json": {
              "version_major": 2,
              "version_minor": 0,
              "model_id": "16639d677c4f4589bd2011938429efd8"
            }
          },
          "metadata": {}
        },
        {
          "output_type": "display_data",
          "data": {
            "text/plain": [
              "config.json:   0%|          | 0.00/570 [00:00<?, ?B/s]"
            ],
            "application/vnd.jupyter.widget-view+json": {
              "version_major": 2,
              "version_minor": 0,
              "model_id": "2886d1cca87c4e64862ec5fe21f1c4fc"
            }
          },
          "metadata": {}
        }
      ]
    },
    {
      "cell_type": "code",
      "source": [
        "class TweetDataset(Dataset):\n",
        "    def __init__(self, encodings, labels=None):\n",
        "        self.encodings = encodings\n",
        "        self.labels = labels\n",
        "\n",
        "    def __getitem__(self, idx):\n",
        "        item = {key: torch.tensor(val[idx]) for key, val in self.encodings.items()}\n",
        "        if self.labels is not None:\n",
        "            item['labels'] = torch.tensor(self.labels[idx])\n",
        "        return item\n",
        "\n",
        "    def __len__(self):\n",
        "        return len(self.encodings['input_ids'])"
      ],
      "metadata": {
        "id": "0R4ZvviPiC0D"
      },
      "execution_count": null,
      "outputs": []
    },
    {
      "cell_type": "code",
      "source": [
        "training_args = TrainingArguments(\n",
        "    output_dir='./results',\n",
        "    num_train_epochs=1,\n",
        "    per_device_train_batch_size=32,\n",
        "    per_device_eval_batch_size=64,\n",
        "    warmup_steps=500,\n",
        "    weight_decay=0.01,\n",
        "    logging_dir='./logs',\n",
        "    logging_steps=50,\n",
        "    evaluation_strategy=\"epoch\"\n",
        ")"
      ],
      "metadata": {
        "id": "KuxJaZckiHrK"
      },
      "execution_count": null,
      "outputs": []
    },
    {
      "cell_type": "code",
      "source": [
        "model = BertForSequenceClassification.from_pretrained('bert-base-uncased', num_labels=2)\n",
        "model.to(torch.device(\"cuda\" if torch.cuda.is_available() else \"cpu\"))"
      ],
      "metadata": {
        "colab": {
          "base_uri": "https://localhost:8080/"
        },
        "id": "pGJvp4p9iSbK",
        "outputId": "9f8d5820-437e-41ee-bd58-77a006767531"
      },
      "execution_count": null,
      "outputs": [
        {
          "output_type": "stream",
          "name": "stderr",
          "text": [
            "Some weights of BertForSequenceClassification were not initialized from the model checkpoint at bert-base-uncased and are newly initialized: ['classifier.bias', 'classifier.weight']\n",
            "You should probably TRAIN this model on a down-stream task to be able to use it for predictions and inference.\n"
          ]
        },
        {
          "output_type": "execute_result",
          "data": {
            "text/plain": [
              "BertForSequenceClassification(\n",
              "  (bert): BertModel(\n",
              "    (embeddings): BertEmbeddings(\n",
              "      (word_embeddings): Embedding(30522, 768, padding_idx=0)\n",
              "      (position_embeddings): Embedding(512, 768)\n",
              "      (token_type_embeddings): Embedding(2, 768)\n",
              "      (LayerNorm): LayerNorm((768,), eps=1e-12, elementwise_affine=True)\n",
              "      (dropout): Dropout(p=0.1, inplace=False)\n",
              "    )\n",
              "    (encoder): BertEncoder(\n",
              "      (layer): ModuleList(\n",
              "        (0-11): 12 x BertLayer(\n",
              "          (attention): BertAttention(\n",
              "            (self): BertSdpaSelfAttention(\n",
              "              (query): Linear(in_features=768, out_features=768, bias=True)\n",
              "              (key): Linear(in_features=768, out_features=768, bias=True)\n",
              "              (value): Linear(in_features=768, out_features=768, bias=True)\n",
              "              (dropout): Dropout(p=0.1, inplace=False)\n",
              "            )\n",
              "            (output): BertSelfOutput(\n",
              "              (dense): Linear(in_features=768, out_features=768, bias=True)\n",
              "              (LayerNorm): LayerNorm((768,), eps=1e-12, elementwise_affine=True)\n",
              "              (dropout): Dropout(p=0.1, inplace=False)\n",
              "            )\n",
              "          )\n",
              "          (intermediate): BertIntermediate(\n",
              "            (dense): Linear(in_features=768, out_features=3072, bias=True)\n",
              "            (intermediate_act_fn): GELUActivation()\n",
              "          )\n",
              "          (output): BertOutput(\n",
              "            (dense): Linear(in_features=3072, out_features=768, bias=True)\n",
              "            (LayerNorm): LayerNorm((768,), eps=1e-12, elementwise_affine=True)\n",
              "            (dropout): Dropout(p=0.1, inplace=False)\n",
              "          )\n",
              "        )\n",
              "      )\n",
              "    )\n",
              "    (pooler): BertPooler(\n",
              "      (dense): Linear(in_features=768, out_features=768, bias=True)\n",
              "      (activation): Tanh()\n",
              "    )\n",
              "  )\n",
              "  (dropout): Dropout(p=0.1, inplace=False)\n",
              "  (classifier): Linear(in_features=768, out_features=2, bias=True)\n",
              ")"
            ]
          },
          "metadata": {},
          "execution_count": 20
        }
      ]
    },
    {
      "cell_type": "code",
      "source": [
        "# Tokenize both training and validation data\n",
        "train_encodings = tokenize_data(train_df, tokenizer)\n",
        "val_encodings = tokenize_data(valid_df, tokenizer)\n",
        "\n",
        "# Create datasets\n",
        "train_dataset = TweetDataset(train_encodings, train_df['target'].values)\n",
        "val_dataset = TweetDataset(val_encodings, valid_df['target'].values)"
      ],
      "metadata": {
        "id": "u-4rWa6yjUTp"
      },
      "execution_count": null,
      "outputs": []
    },
    {
      "cell_type": "code",
      "source": [
        "trainer = Trainer(\n",
        "    model=model,\n",
        "    args=training_args,\n",
        "    train_dataset=train_dataset,\n",
        "    eval_dataset=val_dataset,  # Adding the validation dataset here\n",
        "    compute_metrics=lambda p: {'accuracy': (np.argmax(p.predictions, axis=1) == p.label_ids).mean()}\n",
        ")"
      ],
      "metadata": {
        "id": "hh-47ykBkTzV"
      },
      "execution_count": null,
      "outputs": []
    },
    {
      "cell_type": "code",
      "source": [
        "trainer.train()"
      ],
      "metadata": {
        "colab": {
          "base_uri": "https://localhost:8080/",
          "height": 231
        },
        "id": "hQVJDUVmkWoy",
        "outputId": "40efd773-6974-48cd-f516-4a11c7eb4c38"
      },
      "execution_count": null,
      "outputs": [
        {
          "output_type": "stream",
          "name": "stderr",
          "text": [
            "<ipython-input-11-ec98418e07fc>:7: UserWarning: To copy construct from a tensor, it is recommended to use sourceTensor.clone().detach() or sourceTensor.clone().detach().requires_grad_(True), rather than torch.tensor(sourceTensor).\n",
            "  item = {key: torch.tensor(val[idx]) for key, val in self.encodings.items()}\n"
          ]
        },
        {
          "output_type": "display_data",
          "data": {
            "text/plain": [
              "<IPython.core.display.HTML object>"
            ],
            "text/html": [
              "\n",
              "    <div>\n",
              "      \n",
              "      <progress value='191' max='191' style='width:300px; height:20px; vertical-align: middle;'></progress>\n",
              "      [191/191 1:34:56, Epoch 1/1]\n",
              "    </div>\n",
              "    <table border=\"1\" class=\"dataframe\">\n",
              "  <thead>\n",
              " <tr style=\"text-align: left;\">\n",
              "      <th>Epoch</th>\n",
              "      <th>Training Loss</th>\n",
              "      <th>Validation Loss</th>\n",
              "      <th>Accuracy</th>\n",
              "    </tr>\n",
              "  </thead>\n",
              "  <tbody>\n",
              "    <tr>\n",
              "      <td>1</td>\n",
              "      <td>0.473400</td>\n",
              "      <td>0.439386</td>\n",
              "      <td>0.813526</td>\n",
              "    </tr>\n",
              "  </tbody>\n",
              "</table><p>"
            ]
          },
          "metadata": {}
        },
        {
          "output_type": "stream",
          "name": "stderr",
          "text": [
            "<ipython-input-11-ec98418e07fc>:7: UserWarning: To copy construct from a tensor, it is recommended to use sourceTensor.clone().detach() or sourceTensor.clone().detach().requires_grad_(True), rather than torch.tensor(sourceTensor).\n",
            "  item = {key: torch.tensor(val[idx]) for key, val in self.encodings.items()}\n"
          ]
        },
        {
          "output_type": "execute_result",
          "data": {
            "text/plain": [
              "TrainOutput(global_step=191, training_loss=0.5455501416590826, metrics={'train_runtime': 5738.2009, 'train_samples_per_second': 1.061, 'train_steps_per_second': 0.033, 'total_flos': 262884944296800.0, 'train_loss': 0.5455501416590826, 'epoch': 1.0})"
            ]
          },
          "metadata": {},
          "execution_count": 22
        }
      ]
    },
    {
      "cell_type": "code",
      "source": [
        "test_encodings = tokenize_data(test_df, tokenizer)\n",
        "test_dataset = TweetDataset(test_encodings)\n",
        "predictions = trainer.predict(test_dataset)\n",
        "predicted_labels = np.argmax(predictions.predictions, axis=1)\n",
        "\n",
        "# Create a submission DataFrame\n",
        "submission = pd.DataFrame({\n",
        "    'id': test_df['id'],\n",
        "    'target': predicted_labels\n",
        "})"
      ],
      "metadata": {
        "colab": {
          "base_uri": "https://localhost:8080/",
          "height": 72
        },
        "id": "TdLD5bS3nDY9",
        "outputId": "1fe5fcde-ba4d-4e4d-a4b8-b00ceb536421"
      },
      "execution_count": null,
      "outputs": [
        {
          "output_type": "stream",
          "name": "stderr",
          "text": [
            "<ipython-input-11-ec98418e07fc>:7: UserWarning: To copy construct from a tensor, it is recommended to use sourceTensor.clone().detach() or sourceTensor.clone().detach().requires_grad_(True), rather than torch.tensor(sourceTensor).\n",
            "  item = {key: torch.tensor(val[idx]) for key, val in self.encodings.items()}\n"
          ]
        },
        {
          "output_type": "display_data",
          "data": {
            "text/plain": [
              "<IPython.core.display.HTML object>"
            ],
            "text/html": []
          },
          "metadata": {}
        }
      ]
    },
    {
      "cell_type": "code",
      "source": [
        "submission.to_csv('pretrained-submission.csv', index=False)"
      ],
      "metadata": {
        "id": "fjT-W6HNm09E"
      },
      "execution_count": null,
      "outputs": []
    },
    {
      "cell_type": "markdown",
      "source": [
        "### Results and Analysis\n",
        "\n",
        "Overall, the various RNN architectures that I tried were not successful in this competition. Even with regularization and dropout, the models began to overfit after just a few epochs. I wonder if there are not enough records in the training set for the neural network to learn general patterns rather than just memorizing the answers for that specifi dataset.\n",
        "\n",
        "The pretrained network was significantly more effective, even with just one training epoch on this specific task. The pretrained network begins with an ability to detect general language patterns, unlike the from-scratch recurrent models which all seem to be memorizing training-data-specific patterns that don't generalize particularly well."
      ],
      "metadata": {
        "id": "B6qQbTrlRbFz"
      }
    },
    {
      "cell_type": "markdown",
      "source": [
        "![cu-deep-table-image.JPG](data:image/jpeg;base64,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)"
      ],
      "metadata": {
        "id": "iNsv2E55mYgo"
      }
    },
    {
      "cell_type": "markdown",
      "source": [
        "### Conclusion\n",
        "\n",
        "It was disappointing to have my efforts in making from-scratch networks be unsuccessful. I believe that I identified the right issue - overfitting - but the approaches that I took to fix it didn't end up helping. I think that's in part because the dataset is only about 10,000 examples. That's as small as it gets for deep learning techniques.\n",
        "\n",
        "If I were to continue working on this problem, I'd put my next efforts into a more traditional NLP approach and spend more time preprocessing the texts. Another fruitful path might be to train the pretrained network over more epochs and/or compare other pretrained networks. Pretrained networks allow us to apply the learnings from much larger datasets to custom tasks like this and are an amazing innovation and a testament to the power of open source tools."
      ],
      "metadata": {
        "id": "XCsVnnJcpsug"
      }
    },
    {
      "cell_type": "markdown",
      "source": [
        "### References\n",
        "\n",
        "Hugging Face Text Classification guide: https://huggingface.co/docs/transformers/en/tasks/sequence_classification\n",
        "\n",
        "BERT Classifier: https://huggingface.co/docs/transformers/en/model_doc/bert#transformers.BertForSequenceClassification\n",
        "\n",
        "Tensorflow Embedding Layer: https://www.tensorflow.org/api_docs/python/tf/keras/layers/Embedding"
      ],
      "metadata": {
        "id": "J05fT04brGjf"
      }
    }
  ]
}